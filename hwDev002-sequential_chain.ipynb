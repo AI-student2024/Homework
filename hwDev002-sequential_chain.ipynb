{
 "cells": [
  {
   "cell_type": "markdown",
   "id": "e4d3cf9f",
   "metadata": {},
   "source": [
    "### Homework\n",
    "\n",
    "#### 使用 OutputParser 优化 overall_chain 输出格式，区分 synopsis_chain 和 review_chain 的结果"
   ]
  },
  {
   "cell_type": "code",
   "execution_count": 5,
   "id": "2a04d84f-15c6-4a8d-a4db-200dfa405afa",
   "metadata": {},
   "outputs": [],
   "source": [
    "# # 这是一个 LLMChain，根据剧名和设定的时代来撰写剧情简介。\n",
    "from langchain.output_parsers import ResponseSchema, StructuredOutputParser\n",
    "from langchain.chains import LLMChain\n",
    "# from langchain import OpenAI, LLMChain, PromptTemplate\n",
    "# llm = OpenAI(temperature=0.7, max_tokens=1000)\n",
    "# 自定义一个解析器\n",
    "\"\"\" class TextOutputParser(StructuredOutputParser):\n",
    "    def parse(self, text):\n",
    "        # 首先使用父类的解析逻辑\n",
    "        structured_result = super().parse(text)\n",
    "        # 然后将解析后的字典转换成字符串格式\n",
    "        return \"\\n\".join([f\"{key}: {value}\" for key, value in structured_result.items()]) \"\"\"\n",
    "\n",
    "\n",
    "from langchain_community.llms.moonshot import Moonshot\n",
    "from langchain.prompts import PromptTemplate\n",
    "llm = Moonshot(temperature=0.7,max_tokens=2000)\n",
    "\n",
    "template = \"\"\"你是一位剧作家。根据戏剧的标题和设定的时代，你的任务是为该标题写一个简介。\n",
    "\n",
    "标题：{title}\n",
    "时代：{era}\n",
    "剧作家：以下是对上述戏剧的简介：\n",
    "\n",
    "{format_instructions} \"\"\"\n",
    "\n",
    "response_schemas = [\n",
    "    ResponseSchema(name=\"synopsis_chain输出的戏剧简介\",description=\"把{name}加在内容的最前面，并将全部内容按string类型后输出。\")\n",
    "    ]\n",
    "\n",
    "# 使用json格式的输出解析器\n",
    "output_parser =StructuredOutputParser.from_response_schemas(response_schemas)\n",
    "\n",
    "prompt_template = PromptTemplate(template=template,\n",
    "                                 input_variables=[\"title\", \"era\"], \n",
    "                                 partial_variables={\"format_instructions\": output_parser.get_format_instructions(only_json=True)},\n",
    "                                 )\n",
    "# output_key\n",
    "synopsis_chain = LLMChain(llm=llm, prompt=prompt_template, output_key=\"synopsis\", verbose=True)"
   ]
  },
  {
   "cell_type": "code",
   "execution_count": 6,
   "id": "250afe66-e014-4097-9798-f9ba812023fd",
   "metadata": {},
   "outputs": [],
   "source": [
    "# 这是一个LLMChain，用于根据剧情简介撰写一篇戏剧评论。\n",
    "\n",
    "template = \"\"\"你是《纽约时报》的戏剧评论家。根据该剧的剧情简介，你需要撰写一篇关于该剧的评论。\n",
    "\n",
    "剧情简介：\n",
    "{synopsis}\n",
    "\n",
    "来自《纽约时报》戏剧评论家对上述剧目的评价：\n",
    "\n",
    "{format_instructions} \"\"\"\n",
    "\n",
    "response_schemas = [\n",
    "    ResponseSchema(name=\"review_chain输出的戏剧评论\",description=\"把{name}加在内容的最前面，并将全部内容按string类型后输出。\")\n",
    "]\n",
    "\n",
    "# 使用json格式的输出解析器\n",
    "output_parser = StructuredOutputParser.from_response_schemas(response_schemas)\n",
    "\n",
    "prompt_template = PromptTemplate(template=template,\n",
    "                                 input_variables=[\"synopsis\"],\n",
    "                                 partial_variables={\"format_instructions\": output_parser.get_format_instructions(only_json=True)},\n",
    "                                 )\n",
    "review_chain = LLMChain(llm=llm, prompt=prompt_template, output_key=\"review\", verbose=True)"
   ]
  },
  {
   "cell_type": "code",
   "execution_count": 7,
   "id": "9eb46f6d-841b-4b87-9ed5-a5913ef9aec5",
   "metadata": {},
   "outputs": [],
   "source": [
    "from langchain.chains import SequentialChain\n",
    "\n",
    "m_overall_chain = SequentialChain(\n",
    "    chains=[synopsis_chain, review_chain],\n",
    "    input_variables=[\"era\", \"title\"],\n",
    "    # Here we return multiple variables\n",
    "    output_variables=[\"synopsis\", \"review\"],\n",
    "    verbose=True)"
   ]
  },
  {
   "cell_type": "code",
   "execution_count": 8,
   "id": "5a4a12ef-da2a-42ad-8044-fb71aedd3e2d",
   "metadata": {},
   "outputs": [
    {
     "name": "stdout",
     "output_type": "stream",
     "text": [
      "\n",
      "\n",
      "\u001b[1m> Entering new SequentialChain chain...\u001b[0m\n",
      "\n",
      "\n",
      "\u001b[1m> Entering new LLMChain chain...\u001b[0m\n",
      "Prompt after formatting:\n",
      "\u001b[32;1m\u001b[1;3m你是一位剧作家。根据戏剧的标题和设定的时代，你的任务是为该标题写一个简介。\n",
      "\n",
      "标题：三体人不是无法战胜的\n",
      "时代：二十一世纪的新中国\n",
      "剧作家：以下是对上述戏剧的简介：\n",
      "\n",
      "\n",
      "```json\n",
      "{\n",
      "\t\"synopsis_chain输出的戏剧简介\": string  // 把{name}加在内容的最前面，并将全部内容按string类型后输出。\n",
      "}\n",
      "``` \u001b[0m\n",
      "\n",
      "\u001b[1m> Finished chain.\u001b[0m\n",
      "\n",
      "\n",
      "\u001b[1m> Entering new LLMChain chain...\u001b[0m\n",
      "Prompt after formatting:\n",
      "\u001b[32;1m\u001b[1;3m你是《纽约时报》的戏剧评论家。根据该剧的剧情简介，你需要撰写一篇关于该剧的评论。\n",
      "\n",
      "剧情简介：\n",
      "{\n",
      "\t\"synopsis_chain输出的戏剧简介\": \"《三体人不是无法战胜的》是一部发生在21世纪新中国背景下的科幻戏剧。在这部作品中，人类面临着一个前所未有的挑战：与来自遥远星系的三体文明进行较量。尽管三体人拥有先进的科技和强大的实力，但人类并未放弃抵抗。通过智慧、勇气和团结，新中国的科学家们、军事家们以及普通民众共同努力，寻找着战胜三体人的策略和方法。这部剧展现了人类在面对巨大压力时的坚定信念和不屈精神，以及科技进步所带来的无限可能。\"\n",
      "}\n",
      "\n",
      "来自《纽约时报》戏剧评论家对上述剧目的评价：\n",
      "\n",
      "\n",
      "```json\n",
      "{\n",
      "\t\"review_chain输出的戏剧评论\": string  // 把{name}加在内容的最前面，并将全部内容按string类型后输出。\n",
      "}\n",
      "``` \u001b[0m\n",
      "\n",
      "\u001b[1m> Finished chain.\u001b[0m\n",
      "\n",
      "\u001b[1m> Finished chain.\u001b[0m\n"
     ]
    },
    {
     "data": {
      "text/plain": [
       "{'title': '三体人不是无法战胜的',\n",
       " 'era': '二十一世纪的新中国',\n",
       " 'synopsis': '{\\n\\t\"synopsis_chain输出的戏剧简介\": \"《三体人不是无法战胜的》是一部发生在21世纪新中国背景下的科幻戏剧。在这部作品中，人类面临着一个前所未有的挑战：与来自遥远星系的三体文明进行较量。尽管三体人拥有先进的科技和强大的实力，但人类并未放弃抵抗。通过智慧、勇气和团结，新中国的科学家们、军事家们以及普通民众共同努力，寻找着战胜三体人的策略和方法。这部剧展现了人类在面对巨大压力时的坚定信念和不屈精神，以及科技进步所带来的无限可能。\"\\n}',\n",
       " 'review': '{\\n\\t\"review_chain输出的戏剧评论\": \"《三体人不是无法战胜的》是一部令人瞩目的科幻戏剧，它将观众带入了一个充满挑战和未知的世界。在这部作品中，我们看到了新中国在面对强大对手时所展现出的坚定信念和不屈精神。剧中的角色们用智慧、勇气和团结对抗来自遥远星系的三体文明，展现了人类在逆境中的顽强生存意志。此剧不仅仅是一部科幻作品，更是对人类在科技进步中所面临的道德、伦理和社会责任的深刻反思。强烈推荐观众走进剧场，体验这部充满想象力和深度的戏剧佳作。\"\\n}'}"
      ]
     },
     "execution_count": 8,
     "metadata": {},
     "output_type": "execute_result"
    }
   ],
   "source": [
    "m_overall_chain({\"title\":\"三体人不是无法战胜的\", \"era\": \"二十一世纪的新中国\"})"
   ]
  },
  {
   "cell_type": "code",
   "execution_count": null,
   "id": "1c7edb0a-675d-40c0-9f5d-d58f0170ce72",
   "metadata": {},
   "outputs": [],
   "source": []
  }
 ],
 "metadata": {
  "kernelspec": {
   "display_name": "Python 3 (ipykernel)",
   "language": "python",
   "name": "python3"
  },
  "language_info": {
   "codemirror_mode": {
    "name": "ipython",
    "version": 3
   },
   "file_extension": ".py",
   "mimetype": "text/x-python",
   "name": "python",
   "nbconvert_exporter": "python",
   "pygments_lexer": "ipython3",
   "version": "3.11.7"
  }
 },
 "nbformat": 4,
 "nbformat_minor": 5
}

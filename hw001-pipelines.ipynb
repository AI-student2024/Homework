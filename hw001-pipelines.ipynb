{
 "cells": [
  {
   "cell_type": "code",
   "execution_count": 1,
   "id": "7bffabbc-9250-43dc-ad5c-dcd8b616d38c",
   "metadata": {},
   "outputs": [
    {
     "name": "stderr",
     "output_type": "stream",
     "text": [
      "/root/miniconda3/envs/transformers/lib/python3.11/site-packages/tqdm/auto.py:21: TqdmWarning: IProgress not found. Please update jupyter and ipywidgets. See https://ipywidgets.readthedocs.io/en/stable/user_install.html\n",
      "  from .autonotebook import tqdm as notebook_tqdm\n",
      "2024-02-20 16:10:33.886552: I tensorflow/core/util/port.cc:113] oneDNN custom operations are on. You may see slightly different numerical results due to floating-point round-off errors from different computation orders. To turn them off, set the environment variable `TF_ENABLE_ONEDNN_OPTS=0`.\n",
      "2024-02-20 16:10:34.490861: E external/local_xla/xla/stream_executor/cuda/cuda_dnn.cc:9261] Unable to register cuDNN factory: Attempting to register factory for plugin cuDNN when one has already been registered\n",
      "2024-02-20 16:10:34.490944: E external/local_xla/xla/stream_executor/cuda/cuda_fft.cc:607] Unable to register cuFFT factory: Attempting to register factory for plugin cuFFT when one has already been registered\n",
      "2024-02-20 16:10:34.554963: E external/local_xla/xla/stream_executor/cuda/cuda_blas.cc:1515] Unable to register cuBLAS factory: Attempting to register factory for plugin cuBLAS when one has already been registered\n",
      "2024-02-20 16:10:34.918245: I tensorflow/core/platform/cpu_feature_guard.cc:182] This TensorFlow binary is optimized to use available CPU instructions in performance-critical operations.\n",
      "To enable the following instructions: AVX2 AVX512F AVX512_VNNI FMA, in other operations, rebuild TensorFlow with the appropriate compiler flags.\n",
      "2024-02-20 16:10:36.621761: W tensorflow/compiler/tf2tensorrt/utils/py_utils.cc:38] TF-TRT Warning: Could not find TensorRT\n",
      "config.json: 100%|██████████| 759/759 [00:00<00:00, 4.18MB/s]\n",
      "model.safetensors: 100%|██████████| 541M/541M [06:47<00:00, 1.33MB/s] \n",
      "tokenizer_config.json: 100%|██████████| 373/373 [00:00<00:00, 1.89MB/s]\n",
      "vocab.txt: 100%|██████████| 996k/996k [00:00<00:00, 1.17MB/s]\n",
      "tokenizer.json: 100%|██████████| 2.92M/2.92M [00:01<00:00, 2.32MB/s]\n",
      "special_tokens_map.json: 100%|██████████| 125/125 [00:00<00:00, 664kB/s]\n",
      "/root/miniconda3/envs/transformers/lib/python3.11/site-packages/transformers/pipelines/text_classification.py:105: UserWarning: `return_all_scores` is now deprecated,  if want a similar functionality use `top_k=None` instead of `return_all_scores=True` or `top_k=1` instead of `return_all_scores=False`.\n",
      "  warnings.warn(\n"
     ]
    },
    {
     "data": {
      "text/plain": [
       "[[{'label': 'positive', 'score': 0.11399053037166595},\n",
       "  {'label': 'neutral', 'score': 0.22023959457874298},\n",
       "  {'label': 'negative', 'score': 0.6657698750495911}]]"
      ]
     },
     "execution_count": 1,
     "metadata": {},
     "output_type": "execute_result"
    }
   ],
   "source": [
    "from transformers import pipeline\n",
    "\n",
    "# 仅指定任务时，使用默认模型（不推荐）\n",
    "# pipe = pipeline(\"sentiment-analysis\", return_all_scores=True)\n",
    "pipe = pipeline(model=\"lxyuan/distilbert-base-multilingual-cased-sentiments-student\", \n",
    "    return_all_scores=True)\n",
    "pipe(\"今儿上海可真冷啊\")"
   ]
  },
  {
   "cell_type": "code",
   "execution_count": 2,
   "id": "5581b1e3-a2af-4cef-9251-600cb3f1c762",
   "metadata": {},
   "outputs": [
    {
     "data": {
      "text/plain": [
       "[[{'label': 'positive', 'score': 0.11399053037166595},\n",
       "  {'label': 'neutral', 'score': 0.22023959457874298},\n",
       "  {'label': 'negative', 'score': 0.6657698750495911}]]"
      ]
     },
     "execution_count": 2,
     "metadata": {},
     "output_type": "execute_result"
    }
   ],
   "source": [
    "pipe(\"今儿上海可真冷啊\")"
   ]
  },
  {
   "cell_type": "code",
   "execution_count": 3,
   "id": "3f7dfaf7-55b7-4d2d-907a-e2d9ed4b6ba6",
   "metadata": {},
   "outputs": [
    {
     "data": {
      "text/plain": [
       "[[{'label': 'positive', 'score': 0.0725812315940857},\n",
       "  {'label': 'neutral', 'score': 0.6030056476593018},\n",
       "  {'label': 'negative', 'score': 0.3244131803512573}]]"
      ]
     },
     "execution_count": 3,
     "metadata": {},
     "output_type": "execute_result"
    }
   ],
   "source": [
    "pipe(\"我觉得这家店蒜泥白肉的味道一般\")"
   ]
  },
  {
   "cell_type": "code",
   "execution_count": 4,
   "id": "c507b9dc-6947-4670-b13b-72a4dd836605",
   "metadata": {},
   "outputs": [
    {
     "data": {
      "text/plain": [
       "[[{'label': 'positive', 'score': 0.9461327791213989},\n",
       "  {'label': 'neutral', 'score': 0.03845958411693573},\n",
       "  {'label': 'negative', 'score': 0.015407565981149673}]]"
      ]
     },
     "execution_count": 4,
     "metadata": {},
     "output_type": "execute_result"
    }
   ],
   "source": [
    "# 默认使用的模型 distilbert-base-uncased-finetuned-sst-2-english \n",
    "# 并未针对中文做太多训练，中文的文本分类任务表现未必满意\n",
    "pipe(\"你学东西真的好快，理论课一讲就明白了\")"
   ]
  },
  {
   "cell_type": "code",
   "execution_count": 5,
   "id": "92e1aee6-bc1c-498c-a925-8684a1698ef9",
   "metadata": {},
   "outputs": [
    {
     "data": {
      "text/plain": [
       "[[{'label': 'positive', 'score': 0.7639099359512329},\n",
       "  {'label': 'neutral', 'score': 0.15310528874397278},\n",
       "  {'label': 'negative', 'score': 0.0829847902059555}]]"
      ]
     },
     "execution_count": 5,
     "metadata": {},
     "output_type": "execute_result"
    }
   ],
   "source": [
    "# 替换为英文后，文本分类任务的表现立刻改善\n",
    "pipe(\"You learn things really quickly. You understand the theory class as soon as it is taught.\")"
   ]
  },
  {
   "cell_type": "code",
   "execution_count": 6,
   "id": "67942d27-d56b-4015-9303-e35880ac4b32",
   "metadata": {},
   "outputs": [
    {
     "data": {
      "text/plain": [
       "[[{'label': 'positive', 'score': 0.09706173837184906},\n",
       "  {'label': 'neutral', 'score': 0.12048669904470444},\n",
       "  {'label': 'negative', 'score': 0.7824515104293823}]]"
      ]
     },
     "execution_count": 6,
     "metadata": {},
     "output_type": "execute_result"
    }
   ],
   "source": [
    "pipe(\"Today Shanghai is really cold.\")"
   ]
  },
  {
   "cell_type": "code",
   "execution_count": 7,
   "id": "7cea4a46-93f5-4861-ba3e-cebc89d7de72",
   "metadata": {},
   "outputs": [
    {
     "data": {
      "text/plain": [
       "[[{'label': 'positive', 'score': 0.09706173837184906},\n",
       "  {'label': 'neutral', 'score': 0.12048669904470444},\n",
       "  {'label': 'negative', 'score': 0.7824515104293823}],\n",
       " [{'label': 'positive', 'score': 0.3724641501903534},\n",
       "  {'label': 'neutral', 'score': 0.25003641843795776},\n",
       "  {'label': 'negative', 'score': 0.3774994909763336}],\n",
       " [{'label': 'positive', 'score': 0.7639099359512329},\n",
       "  {'label': 'neutral', 'score': 0.15310528874397278},\n",
       "  {'label': 'negative', 'score': 0.0829847902059555}]]"
      ]
     },
     "execution_count": 7,
     "metadata": {},
     "output_type": "execute_result"
    }
   ],
   "source": [
    "text_list = [\n",
    "    \"Today Shanghai is really cold.\",\n",
    "    \"I think the taste of the garlic mashed pork in this store is average.\",\n",
    "    \"You learn things really quickly. You understand the theory class as soon as it is taught.\"\n",
    "]\n",
    "\n",
    "pipe(text_list)"
   ]
  },
  {
   "cell_type": "code",
   "execution_count": null,
   "id": "cbf61f0b-08c2-4fcb-a80b-86beee8ddd29",
   "metadata": {},
   "outputs": [],
   "source": []
  }
 ],
 "metadata": {
  "kernelspec": {
   "display_name": "Python 3 (ipykernel)",
   "language": "python",
   "name": "python3"
  },
  "language_info": {
   "codemirror_mode": {
    "name": "ipython",
    "version": 3
   },
   "file_extension": ".py",
   "mimetype": "text/x-python",
   "name": "python",
   "nbconvert_exporter": "python",
   "pygments_lexer": "ipython3",
   "version": "3.11.8"
  }
 },
 "nbformat": 4,
 "nbformat_minor": 5
}

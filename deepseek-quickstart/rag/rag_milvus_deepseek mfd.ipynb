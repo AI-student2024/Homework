{
 "cells": [
  {
   "cell_type": "markdown",
   "id": "20549885",
   "metadata": {},
   "source": [
    "# 使用 Milvus 和 DeepSeek 构建 RAG\n",
    "\n",
    "DeepSeek 帮助开发者使用高性能语言模型构建和扩展 AI 应用。它提供高效的推理、灵活的 API 以及先进的专家混合 (MoE) 架构，用于强大的推理和检索任务。\n",
    "\n",
    "在本教程中，我们将展示如何使用 Milvus 和 DeepSeek 构建一个检索增强生成 (RAG) 管道。"
   ]
  },
  {
   "cell_type": "markdown",
   "id": "7394c701",
   "metadata": {},
   "source": [
    "## 准备工作"
   ]
  },
  {
   "cell_type": "markdown",
   "id": "89103a1e",
   "metadata": {},
   "source": [
    "### 依赖与环境"
   ]
  },
  {
   "cell_type": "code",
   "execution_count": 1,
   "id": "9c18d7b4",
   "metadata": {},
   "outputs": [
    {
     "name": "stdout",
     "output_type": "stream",
     "text": [
      "Looking in indexes: http://mirrors.aliyun.com/pypi/simple\n",
      "Requirement already satisfied: pymilvus[model]==2.5.10 in /root/miniconda3/lib/python3.10/site-packages (2.5.10)\n",
      "Requirement already satisfied: openai==1.82.0 in /root/miniconda3/lib/python3.10/site-packages (1.82.0)\n",
      "Requirement already satisfied: requests==2.32.3 in /root/miniconda3/lib/python3.10/site-packages (2.32.3)\n",
      "Requirement already satisfied: tqdm==4.67.1 in /root/miniconda3/lib/python3.10/site-packages (4.67.1)\n",
      "Requirement already satisfied: torch==2.7.0 in /root/miniconda3/lib/python3.10/site-packages (2.7.0)\n",
      "Requirement already satisfied: pandas>=1.2.4 in /root/miniconda3/lib/python3.10/site-packages (from pymilvus[model]==2.5.10) (2.3.1)\n",
      "Requirement already satisfied: ujson>=2.0.0 in /root/miniconda3/lib/python3.10/site-packages (from pymilvus[model]==2.5.10) (5.10.0)\n",
      "Requirement already satisfied: setuptools>69 in /root/miniconda3/lib/python3.10/site-packages (from pymilvus[model]==2.5.10) (80.9.0)\n",
      "Requirement already satisfied: protobuf>=3.20.0 in /root/miniconda3/lib/python3.10/site-packages (from pymilvus[model]==2.5.10) (3.20.3)\n",
      "Requirement already satisfied: python-dotenv<2.0.0,>=1.0.1 in /root/miniconda3/lib/python3.10/site-packages (from pymilvus[model]==2.5.10) (1.1.1)\n",
      "Requirement already satisfied: grpcio<=1.67.1,>=1.49.1 in /root/miniconda3/lib/python3.10/site-packages (from pymilvus[model]==2.5.10) (1.51.1)\n",
      "Requirement already satisfied: milvus-lite>=2.4.0 in /root/miniconda3/lib/python3.10/site-packages (from pymilvus[model]==2.5.10) (2.5.1)\n",
      "Requirement already satisfied: pymilvus.model>=0.3.0 in /root/miniconda3/lib/python3.10/site-packages (from pymilvus[model]==2.5.10) (0.3.2)\n",
      "Requirement already satisfied: distro<2,>=1.7.0 in /root/miniconda3/lib/python3.10/site-packages (from openai==1.82.0) (1.9.0)\n",
      "Requirement already satisfied: anyio<5,>=3.5.0 in /root/miniconda3/lib/python3.10/site-packages (from openai==1.82.0) (3.6.2)\n",
      "Requirement already satisfied: pydantic<3,>=1.9.0 in /root/miniconda3/lib/python3.10/site-packages (from openai==1.82.0) (2.11.7)\n",
      "Requirement already satisfied: jiter<1,>=0.4.0 in /root/miniconda3/lib/python3.10/site-packages (from openai==1.82.0) (0.10.0)\n",
      "Requirement already satisfied: typing-extensions<5,>=4.11 in /root/miniconda3/lib/python3.10/site-packages (from openai==1.82.0) (4.14.1)\n",
      "Requirement already satisfied: httpx<1,>=0.23.0 in /root/miniconda3/lib/python3.10/site-packages (from openai==1.82.0) (0.28.1)\n",
      "Requirement already satisfied: sniffio in /root/miniconda3/lib/python3.10/site-packages (from openai==1.82.0) (1.3.0)\n",
      "Requirement already satisfied: urllib3<3,>=1.21.1 in /root/miniconda3/lib/python3.10/site-packages (from requests==2.32.3) (1.26.13)\n",
      "Requirement already satisfied: charset-normalizer<4,>=2 in /root/miniconda3/lib/python3.10/site-packages (from requests==2.32.3) (2.0.4)\n",
      "Requirement already satisfied: certifi>=2017.4.17 in /root/miniconda3/lib/python3.10/site-packages (from requests==2.32.3) (2022.12.7)\n",
      "Requirement already satisfied: idna<4,>=2.5 in /root/miniconda3/lib/python3.10/site-packages (from requests==2.32.3) (3.4)\n",
      "Requirement already satisfied: nvidia-nccl-cu12==2.26.2 in /root/miniconda3/lib/python3.10/site-packages (from torch==2.7.0) (2.26.2)\n",
      "Requirement already satisfied: nvidia-cusparse-cu12==12.5.4.2 in /root/miniconda3/lib/python3.10/site-packages (from torch==2.7.0) (12.5.4.2)\n",
      "Requirement already satisfied: nvidia-cuda-nvrtc-cu12==12.6.77 in /root/miniconda3/lib/python3.10/site-packages (from torch==2.7.0) (12.6.77)\n",
      "Requirement already satisfied: nvidia-nvjitlink-cu12==12.6.85 in /root/miniconda3/lib/python3.10/site-packages (from torch==2.7.0) (12.6.85)\n",
      "Requirement already satisfied: nvidia-curand-cu12==10.3.7.77 in /root/miniconda3/lib/python3.10/site-packages (from torch==2.7.0) (10.3.7.77)\n",
      "Requirement already satisfied: networkx in /root/miniconda3/lib/python3.10/site-packages (from torch==2.7.0) (3.4.2)\n",
      "Requirement already satisfied: nvidia-cufile-cu12==1.11.1.6 in /root/miniconda3/lib/python3.10/site-packages (from torch==2.7.0) (1.11.1.6)\n",
      "Requirement already satisfied: nvidia-cusparselt-cu12==0.6.3 in /root/miniconda3/lib/python3.10/site-packages (from torch==2.7.0) (0.6.3)\n",
      "Requirement already satisfied: sympy>=1.13.3 in /root/miniconda3/lib/python3.10/site-packages (from torch==2.7.0) (1.14.0)\n",
      "Requirement already satisfied: nvidia-cuda-runtime-cu12==12.6.77 in /root/miniconda3/lib/python3.10/site-packages (from torch==2.7.0) (12.6.77)\n",
      "Requirement already satisfied: nvidia-cusolver-cu12==11.7.1.2 in /root/miniconda3/lib/python3.10/site-packages (from torch==2.7.0) (11.7.1.2)\n",
      "Requirement already satisfied: nvidia-cublas-cu12==12.6.4.1 in /root/miniconda3/lib/python3.10/site-packages (from torch==2.7.0) (12.6.4.1)\n",
      "Requirement already satisfied: filelock in /root/miniconda3/lib/python3.10/site-packages (from torch==2.7.0) (3.19.1)\n",
      "Requirement already satisfied: fsspec in /root/miniconda3/lib/python3.10/site-packages (from torch==2.7.0) (2025.7.0)\n",
      "Requirement already satisfied: nvidia-cudnn-cu12==9.5.1.17 in /root/miniconda3/lib/python3.10/site-packages (from torch==2.7.0) (9.5.1.17)\n",
      "Requirement already satisfied: jinja2 in /root/miniconda3/lib/python3.10/site-packages (from torch==2.7.0) (3.1.2)\n",
      "Requirement already satisfied: nvidia-cufft-cu12==11.3.0.4 in /root/miniconda3/lib/python3.10/site-packages (from torch==2.7.0) (11.3.0.4)\n",
      "Requirement already satisfied: triton==3.3.0 in /root/miniconda3/lib/python3.10/site-packages (from torch==2.7.0) (3.3.0)\n",
      "Requirement already satisfied: nvidia-nvtx-cu12==12.6.77 in /root/miniconda3/lib/python3.10/site-packages (from torch==2.7.0) (12.6.77)\n",
      "Requirement already satisfied: nvidia-cuda-cupti-cu12==12.6.80 in /root/miniconda3/lib/python3.10/site-packages (from torch==2.7.0) (12.6.80)\n",
      "Requirement already satisfied: httpcore==1.* in /root/miniconda3/lib/python3.10/site-packages (from httpx<1,>=0.23.0->openai==1.82.0) (1.0.9)\n",
      "Requirement already satisfied: h11>=0.16 in /root/miniconda3/lib/python3.10/site-packages (from httpcore==1.*->httpx<1,>=0.23.0->openai==1.82.0) (0.16.0)\n",
      "Requirement already satisfied: python-dateutil>=2.8.2 in /root/miniconda3/lib/python3.10/site-packages (from pandas>=1.2.4->pymilvus[model]==2.5.10) (2.8.2)\n",
      "Requirement already satisfied: tzdata>=2022.7 in /root/miniconda3/lib/python3.10/site-packages (from pandas>=1.2.4->pymilvus[model]==2.5.10) (2025.2)\n",
      "Requirement already satisfied: pytz>=2020.1 in /root/miniconda3/lib/python3.10/site-packages (from pandas>=1.2.4->pymilvus[model]==2.5.10) (2022.7.1)\n",
      "Requirement already satisfied: numpy>=1.22.4 in /root/miniconda3/lib/python3.10/site-packages (from pandas>=1.2.4->pymilvus[model]==2.5.10) (1.24.1)\n",
      "Requirement already satisfied: annotated-types>=0.6.0 in /root/miniconda3/lib/python3.10/site-packages (from pydantic<3,>=1.9.0->openai==1.82.0) (0.7.0)\n",
      "Requirement already satisfied: pydantic-core==2.33.2 in /root/miniconda3/lib/python3.10/site-packages (from pydantic<3,>=1.9.0->openai==1.82.0) (2.33.2)\n",
      "Requirement already satisfied: typing-inspection>=0.4.0 in /root/miniconda3/lib/python3.10/site-packages (from pydantic<3,>=1.9.0->openai==1.82.0) (0.4.1)\n",
      "Requirement already satisfied: scipy>=1.10.0 in /root/miniconda3/lib/python3.10/site-packages (from pymilvus.model>=0.3.0->pymilvus[model]==2.5.10) (1.15.3)\n",
      "Requirement already satisfied: transformers>=4.36.0 in /root/miniconda3/lib/python3.10/site-packages (from pymilvus.model>=0.3.0->pymilvus[model]==2.5.10) (4.55.2)\n",
      "Requirement already satisfied: onnxruntime in /root/miniconda3/lib/python3.10/site-packages (from pymilvus.model>=0.3.0->pymilvus[model]==2.5.10) (1.22.1)\n",
      "Requirement already satisfied: mpmath<1.4,>=1.1.0 in /root/miniconda3/lib/python3.10/site-packages (from sympy>=1.13.3->torch==2.7.0) (1.3.0)\n",
      "Requirement already satisfied: MarkupSafe>=2.0 in /root/miniconda3/lib/python3.10/site-packages (from jinja2->torch==2.7.0) (2.1.2)\n",
      "Requirement already satisfied: six>=1.5 in /root/miniconda3/lib/python3.10/site-packages (from python-dateutil>=2.8.2->pandas>=1.2.4->pymilvus[model]==2.5.10) (1.16.0)\n",
      "Requirement already satisfied: packaging>=20.0 in /root/miniconda3/lib/python3.10/site-packages (from transformers>=4.36.0->pymilvus.model>=0.3.0->pymilvus[model]==2.5.10) (23.0)\n",
      "Requirement already satisfied: tokenizers<0.22,>=0.21 in /root/miniconda3/lib/python3.10/site-packages (from transformers>=4.36.0->pymilvus.model>=0.3.0->pymilvus[model]==2.5.10) (0.21.4)\n",
      "Requirement already satisfied: huggingface-hub<1.0,>=0.34.0 in /root/miniconda3/lib/python3.10/site-packages (from transformers>=4.36.0->pymilvus.model>=0.3.0->pymilvus[model]==2.5.10) (0.34.4)\n",
      "Requirement already satisfied: pyyaml>=5.1 in /root/miniconda3/lib/python3.10/site-packages (from transformers>=4.36.0->pymilvus.model>=0.3.0->pymilvus[model]==2.5.10) (6.0)\n",
      "Requirement already satisfied: regex!=2019.12.17 in /root/miniconda3/lib/python3.10/site-packages (from transformers>=4.36.0->pymilvus.model>=0.3.0->pymilvus[model]==2.5.10) (2025.7.33)\n",
      "Requirement already satisfied: safetensors>=0.4.3 in /root/miniconda3/lib/python3.10/site-packages (from transformers>=4.36.0->pymilvus.model>=0.3.0->pymilvus[model]==2.5.10) (0.6.2)\n",
      "Requirement already satisfied: flatbuffers in /root/miniconda3/lib/python3.10/site-packages (from onnxruntime->pymilvus.model>=0.3.0->pymilvus[model]==2.5.10) (25.2.10)\n",
      "Requirement already satisfied: coloredlogs in /root/miniconda3/lib/python3.10/site-packages (from onnxruntime->pymilvus.model>=0.3.0->pymilvus[model]==2.5.10) (15.0.1)\n",
      "Requirement already satisfied: hf-xet<2.0.0,>=1.1.3 in /root/miniconda3/lib/python3.10/site-packages (from huggingface-hub<1.0,>=0.34.0->transformers>=4.36.0->pymilvus.model>=0.3.0->pymilvus[model]==2.5.10) (1.1.7)\n",
      "Requirement already satisfied: humanfriendly>=9.1 in /root/miniconda3/lib/python3.10/site-packages (from coloredlogs->onnxruntime->pymilvus.model>=0.3.0->pymilvus[model]==2.5.10) (10.0)\n",
      "\u001b[33mWARNING: Running pip as the 'root' user can result in broken permissions and conflicting behaviour with the system package manager. It is recommended to use a virtual environment instead: https://pip.pypa.io/warnings/venv\u001b[0m\u001b[33m\n",
      "\u001b[0m"
     ]
    }
   ],
   "source": [
    "!pip install \"pymilvus[model]==2.5.10\" openai==1.82.0 requests==2.32.3 tqdm==4.67.1 torch==2.7.0"
   ]
  },
  {
   "cell_type": "markdown",
   "id": "1b3c0999-d670-41a9-afbd-d8a020fe1631",
   "metadata": {},
   "source": [
    "---"
   ]
  },
  {
   "cell_type": "code",
   "execution_count": 2,
   "id": "375ad823",
   "metadata": {},
   "outputs": [],
   "source": [
    "import os\n",
    "\n",
    "# 建议将 API Key 设置为环境变量，避免直接暴露在代码中\n",
    "# 从环境变量获取 DeepSeek API Key\n",
    "api_key = os.getenv(\"DEEPSEEK_API_KEY\")\n",
    "if not api_key:\n",
    "    raise ValueError(\"请设置 DEEPSEEK_API_KEY 环境变量\")\n"
   ]
  },
  {
   "cell_type": "markdown",
   "id": "db44bb26",
   "metadata": {},
   "source": [
    "### 准备数据"
   ]
  },
  {
   "cell_type": "markdown",
   "id": "25f92a95",
   "metadata": {},
   "source": [
    "我们使用 Milvus 文档 2.4.x 中的 FAQ 页面作为我们 RAG 中的私有知识库，这是一个简单 RAG 管道的良好数据源。"
   ]
  },
  {
   "cell_type": "markdown",
   "id": "a1a8b9e2",
   "metadata": {},
   "source": [
    "下载 zip 文件并将文档解压到 `milvus_docs` 文件夹。\n",
    "\n",
    "**建议在命令行执行下面命令**"
   ]
  },
  {
   "cell_type": "markdown",
   "id": "d1198466",
   "metadata": {},
   "source": [
    "我们从 `mfd_docs/` 文件夹加载所有 markdown 文件。对于每个文档，我们简单地使用 \"# \" 来分割文件中的内容，这样可以大致分离出 markdown 文件中每个主要部分的内容。"
   ]
  },
  {
   "cell_type": "code",
   "execution_count": 3,
   "id": "c9035a5f",
   "metadata": {},
   "outputs": [],
   "source": [
    "from glob import glob\n",
    "\n",
    "text_lines = []\n",
    "\n",
    "for file_path in glob(\"mfd_docs/*.md\", recursive=True):\n",
    "    with open(file_path, \"r\") as file:\n",
    "        file_text = file.read()\n",
    "\n",
    "    text_lines += file_text.split(\"# \")"
   ]
  },
  {
   "cell_type": "code",
   "execution_count": 4,
   "id": "01b73e74-ee7d-4daf-b7db-1c7a10bfc0bf",
   "metadata": {},
   "outputs": [
    {
     "data": {
      "text/plain": [
       "30"
      ]
     },
     "execution_count": 4,
     "metadata": {},
     "output_type": "execute_result"
    }
   ],
   "source": [
    "len(text_lines)"
   ]
  },
  {
   "cell_type": "markdown",
   "id": "4cc2a0b8",
   "metadata": {},
   "source": [
    "### 准备 LLM 和 Embedding 模型"
   ]
  },
  {
   "cell_type": "markdown",
   "id": "19eaff7a",
   "metadata": {},
   "source": [
    "DeepSeek 支持 OpenAI 风格的 API，您可以使用相同的 API 进行微小调整来调用 LLM。"
   ]
  },
  {
   "cell_type": "code",
   "execution_count": 5,
   "id": "b994eb47",
   "metadata": {},
   "outputs": [],
   "source": [
    "from openai import OpenAI\n",
    "\n",
    "deepseek_client = OpenAI(\n",
    "    api_key=api_key,\n",
    "    base_url=\"https://api.deepseek.com/v1\",  # DeepSeek API 的基地址\n",
    ")"
   ]
  },
  {
   "cell_type": "markdown",
   "id": "1cc5a5e2",
   "metadata": {},
   "source": [
    "定义一个 embedding 模型，使用 `milvus_model` 来生成文本嵌入。我们以 `DefaultEmbeddingFunction` 模型为例，这是一个预训练的轻量级嵌入模型。"
   ]
  },
  {
   "cell_type": "code",
   "execution_count": 6,
   "id": "3a94242a",
   "metadata": {},
   "outputs": [],
   "source": [
    "from pymilvus import model as milvus_model\n",
    "\n",
    "embedding_model = milvus_model.DefaultEmbeddingFunction()"
   ]
  },
  {
   "cell_type": "markdown",
   "id": "93fb1696",
   "metadata": {},
   "source": [
    "生成一个测试嵌入并打印其维度和前几个元素。"
   ]
  },
  {
   "cell_type": "code",
   "execution_count": 7,
   "id": "88a27567",
   "metadata": {},
   "outputs": [
    {
     "name": "stdout",
     "output_type": "stream",
     "text": [
      "768\n",
      "[-0.04836059  0.07163021 -0.01130063 -0.03789341 -0.03320651 -0.01318453\n",
      " -0.03041721 -0.02269495 -0.02317858 -0.00426026]\n"
     ]
    }
   ],
   "source": [
    "test_embedding = embedding_model.encode_queries([\"This is a test\"])[0]\n",
    "embedding_dim = len(test_embedding)\n",
    "print(embedding_dim)\n",
    "print(test_embedding[:10])"
   ]
  },
  {
   "cell_type": "code",
   "execution_count": 8,
   "id": "f7683f3a-d9e4-4c8e-9a66-c341911bef6b",
   "metadata": {},
   "outputs": [
    {
     "name": "stdout",
     "output_type": "stream",
     "text": [
      "[-0.02752976  0.0608853   0.00388525 -0.00215193 -0.02774976 -0.0118618\n",
      " -0.04020916 -0.06023417 -0.03813156  0.0100272 ]\n"
     ]
    }
   ],
   "source": [
    "test_embedding_0 = embedding_model.encode_queries([\"That is a test\"])[0]\n",
    "print(test_embedding_0[:10])"
   ]
  },
  {
   "cell_type": "markdown",
   "id": "5a778887",
   "metadata": {},
   "source": [
    "## 将数据加载到 Milvus"
   ]
  },
  {
   "cell_type": "markdown",
   "id": "02b23a24",
   "metadata": {},
   "source": [
    "### 创建 Collection"
   ]
  },
  {
   "cell_type": "code",
   "execution_count": 9,
   "id": "95e84b8c",
   "metadata": {},
   "outputs": [],
   "source": [
    "from pymilvus import MilvusClient\n",
    "\n",
    "milvus_client = MilvusClient(uri=\"./mfd_milvus_demo.db\")\n",
    "\n",
    "collection_name = \"my_rag_collection\""
   ]
  },
  {
   "cell_type": "markdown",
   "id": "68648561",
   "metadata": {},
   "source": [
    "关于 `MilvusClient` 的参数：\n",
    "\n",
    "*   将 `uri` 设置为本地文件，例如 `./milvus.db`，是最方便的方法，因为它会自动利用 Milvus Lite 将所有数据存储在此文件中。\n",
    "*   如果您有大规模数据，可以在 Docker 或 Kubernetes 上设置性能更高的 Milvus 服务器。在此设置中，请使用服务器 URI，例如 `http://localhost:19530`，作为您的 `uri`。\n",
    "*   如果您想使用 Zilliz Cloud（Milvus 的完全托管云服务），请调整 `uri` 和 `token`，它们对应 Zilliz Cloud 中的 Public Endpoint 和 Api key。"
   ]
  },
  {
   "cell_type": "markdown",
   "id": "5ce1bf3e",
   "metadata": {},
   "source": [
    "检查 collection 是否已存在，如果存在则删除它。"
   ]
  },
  {
   "cell_type": "code",
   "execution_count": 10,
   "id": "aee85c08",
   "metadata": {},
   "outputs": [],
   "source": [
    "if milvus_client.has_collection(collection_name):\n",
    "    milvus_client.drop_collection(collection_name)"
   ]
  },
  {
   "cell_type": "markdown",
   "id": "73eb379f",
   "metadata": {},
   "source": [
    "创建一个具有指定参数的新 collection。\n",
    "\n",
    "如果我们不指定任何字段信息，Milvus 将自动创建一个默认的 `id` 字段作为主键，以及一个 `vector` 字段来存储向量数据。一个保留的 JSON 字段用于存储非 schema 定义的字段及其值。\n",
    "\n",
    "`metric_type` (距离度量类型):\n",
    "     作用：定义如何计算向量之间的相似程度。\n",
    "     例如：`IP` (内积) - 值越大通常越相似；`L2` (欧氏距离) - 值越小越相似；`COSINE` (余弦相似度) - 通常转换为距离，值越小越相似。\n",
    "     选择依据：根据你的嵌入模型的特性和期望的相似性定义来选择。\n",
    "\n",
    " `consistency_level` (一致性级别):\n",
    "     作用：定义数据写入后，读取操作能多快看到这些新数据。\n",
    "     例如：\n",
    "         `Strong` (强一致性): 总是读到最新数据，可能稍慢。\n",
    "         `Bounded` (有界过期): 可能读到几秒内旧数据，性能较好 (默认)。\n",
    "         `Session` (会话一致性): 自己写入的自己能立刻读到。\n",
    "         `Eventually` (最终一致性): 最终会读到新数据，但没时间保证，性能最好。\n",
    "     选择依据：在数据实时性要求和系统性能之间做权衡。\n",
    "\n",
    "简单来说：\n",
    " `metric_type`：怎么算相似。\n",
    " `consistency_level`：新数据多久能被读到。"
   ]
  },
  {
   "cell_type": "code",
   "execution_count": 11,
   "id": "bd0b2df8",
   "metadata": {},
   "outputs": [],
   "source": [
    "milvus_client.create_collection(\n",
    "    collection_name=collection_name,\n",
    "    dimension=embedding_dim,\n",
    "    metric_type=\"IP\",  # 内积距离\n",
    "    consistency_level=\"Strong\",  # 支持的值为 (`\"Strong\"`, `\"Session\"`, `\"Bounded\"`, `\"Eventually\"`)。更多详情请参见 https://milvus.io/docs/consistency.md#Consistency-Level。\n",
    ")"
   ]
  },
  {
   "cell_type": "markdown",
   "id": "9c15bafb",
   "metadata": {},
   "source": [
    "### 插入数据"
   ]
  },
  {
   "cell_type": "markdown",
   "id": "171d3b35",
   "metadata": {},
   "source": [
    "遍历文本行，创建嵌入，然后将数据插入 Milvus。\n",
    "\n",
    "这里有一个新字段 `text`，它是在 collection schema 中未定义的字段。它将自动添加到保留的 JSON 动态字段中，该字段在高级别上可以被视为普通字段。"
   ]
  },
  {
   "cell_type": "code",
   "execution_count": 12,
   "id": "ad077094",
   "metadata": {},
   "outputs": [
    {
     "name": "stderr",
     "output_type": "stream",
     "text": [
      "Creating embeddings: 100%|██████████| 30/30 [00:00<00:00, 332002.96it/s]\n"
     ]
    },
    {
     "data": {
      "text/plain": [
       "{'insert_count': 30, 'ids': [0, 1, 2, 3, 4, 5, 6, 7, 8, 9, 10, 11, 12, 13, 14, 15, 16, 17, 18, 19, 20, 21, 22, 23, 24, 25, 26, 27, 28, 29], 'cost': 0}"
      ]
     },
     "execution_count": 12,
     "metadata": {},
     "output_type": "execute_result"
    }
   ],
   "source": [
    "from tqdm import tqdm\n",
    "\n",
    "data = []\n",
    "\n",
    "doc_embeddings = embedding_model.encode_documents(text_lines)\n",
    "\n",
    "for i, line in enumerate(tqdm(text_lines, desc=\"Creating embeddings\")):\n",
    "    data.append({\"id\": i, \"vector\": doc_embeddings[i], \"text\": line})\n",
    "\n",
    "milvus_client.insert(collection_name=collection_name, data=data)"
   ]
  },
  {
   "cell_type": "markdown",
   "id": "bd971f6b",
   "metadata": {},
   "source": [
    "## 构建 RAG"
   ]
  },
  {
   "cell_type": "markdown",
   "id": "534dc076",
   "metadata": {},
   "source": [
    "### 检索查询数据"
   ]
  },
  {
   "cell_type": "markdown",
   "id": "5a6fd7e7",
   "metadata": {},
   "source": [
    "我们指定一个关于 Milvus 的常见问题。"
   ]
  },
  {
   "cell_type": "code",
   "execution_count": 13,
   "id": "6e2f5c6a",
   "metadata": {},
   "outputs": [],
   "source": [
    "question = \"物权有哪些\""
   ]
  },
  {
   "cell_type": "markdown",
   "id": "52401a38",
   "metadata": {},
   "source": [
    "在 collection 中搜索该问题，并检索语义上最匹配的前3个结果。"
   ]
  },
  {
   "cell_type": "code",
   "execution_count": 14,
   "id": "0dd4cbac",
   "metadata": {},
   "outputs": [],
   "source": [
    "search_res = milvus_client.search(\n",
    "    collection_name=collection_name,\n",
    "    data=embedding_model.encode_queries(\n",
    "        [question]\n",
    "    ),  # 将问题转换为嵌入向量\n",
    "    limit=3,  # 返回前3个结果\n",
    "    search_params={\"metric_type\": \"IP\", \"params\": {}},  # 内积距离\n",
    "    output_fields=[\"text\"],  # 返回 text 字段\n",
    ")"
   ]
  },
  {
   "cell_type": "markdown",
   "id": "ffcce135",
   "metadata": {},
   "source": [
    "让我们看一下查询的搜索结果"
   ]
  },
  {
   "cell_type": "code",
   "execution_count": 15,
   "id": "6a7f6eb3",
   "metadata": {},
   "outputs": [
    {
     "name": "stdout",
     "output_type": "stream",
     "text": [
      "[\n",
      "    [\n",
      "        \"\\u7b2c\\u4e09\\u7ae0 \\u5408\\u540c\\u7684\\u53d8\\u66f4\\u548c\\u8f6c\\u8ba9\\n\\n**\\u7b2c\\u4e94\\u767e\\u56db\\u5341\\u516b\\u6761** \\u5f53\\u4e8b\\u4eba\\u534f\\u5546\\u4e00\\u81f4\\uff0c\\u53ef\\u4ee5\\u53d8\\u66f4\\u5408\\u540c\\u3002\\n\\n**\\u7b2c\\u4e94\\u767e\\u56db\\u5341\\u4e5d\\u6761** \\u5f53\\u4e8b\\u4eba\\u5bf9\\u5408\\u540c\\u53d8\\u66f4\\u7684\\u5185\\u5bb9\\u7ea6\\u5b9a\\u4e0d\\u660e\\u786e\\u7684\\uff0c\\u63a8\\u5b9a\\u4e3a\\u672a\\u53d8\\u66f4\\u3002\\n\\n**\\u7b2c\\u4e94\\u767e\\u4e94\\u5341\\u6761** \\u503a\\u6743\\u4eba\\u53ef\\u4ee5\\u5c06\\u5408\\u540c\\u7684\\u6743\\u5229\\u5168\\u90e8\\u6216\\u8005\\u90e8\\u5206\\u8f6c\\u8ba9\\u7ed9\\u7b2c\\u4e09\\u4eba\\uff0c\\u4f46\\u662f\\u6709\\u4e0b\\u5217\\u60c5\\u5f62\\u4e4b\\u4e00\\u7684\\u9664\\u5916\\uff1a\\n\\uff08\\u4e00\\uff09\\u6839\\u636e\\u5408\\u540c\\u6027\\u8d28\\u4e0d\\u5f97\\u8f6c\\u8ba9\\uff1b\\n\\uff08\\u4e8c\\uff09\\u6309\\u7167\\u5f53\\u4e8b\\u4eba\\u7ea6\\u5b9a\\u4e0d\\u5f97\\u8f6c\\u8ba9\\uff1b\\n\\uff08\\u4e09\\uff09\\u4f9d\\u7167\\u6cd5\\u5f8b\\u89c4\\u5b9a\\u4e0d\\u5f97\\u8f6c\\u8ba9\\u3002\\n\\u503a\\u6743\\u4eba\\u8f6c\\u8ba9\\u6743\\u5229\\u7684\\uff0c\\u5e94\\u5f53\\u901a\\u77e5\\u503a\\u52a1\\u4eba\\u3002\\u672a\\u7ecf\\u901a\\u77e5\\uff0c\\u8be5\\u8f6c\\u8ba9\\u5bf9\\u503a\\u52a1\\u4eba\\u4e0d\\u53d1\\u751f\\u6548\\u529b\\u3002\\n\\n**\\u7b2c\\u4e94\\u767e\\u4e94\\u5341\\u4e00\\u6761** \\u503a\\u6743\\u4eba\\u8f6c\\u8ba9\\u6743\\u5229\\u7684\\uff0c\\u53d7\\u8ba9\\u4eba\\u53d6\\u5f97\\u4e0e\\u503a\\u6743\\u6709\\u5173\\u7684\\u4ece\\u6743\\u5229\\uff0c\\u4f46\\u662f\\u8be5\\u4ece\\u6743\\u5229\\u4e13\\u5c5e\\u4e8e\\u503a\\u6743\\u4eba\\u81ea\\u8eab\\u7684\\u9664\\u5916\\u3002\\n\\n**\\u7b2c\\u4e94\\u767e\\u4e94\\u5341\\u4e8c\\u6761** \\u503a\\u52a1\\u4eba\\u5c06\\u5408\\u540c\\u7684\\u4e49\\u52a1\\u5168\\u90e8\\u6216\\u8005\\u90e8\\u5206\\u8f6c\\u8ba9\\u7ed9\\u7b2c\\u4e09\\u4eba\\u7684\\uff0c\\u5e94\\u5f53\\u7ecf\\u503a\\u6743\\u4eba\\u540c\\u610f\\u3002\\n\\n**\\u7b2c\\u4e94\\u767e\\u4e94\\u5341\\u4e09\\u6761** \\u503a\\u52a1\\u4eba\\u8f6c\\u8ba9\\u4e49\\u52a1\\u7684\\uff0c\\u65b0\\u503a\\u52a1\\u4eba\\u53ef\\u4ee5\\u4e3b\\u5f20\\u539f\\u503a\\u52a1\\u4eba\\u5bf9\\u503a\\u6743\\u4eba\\u7684\\u6297\\u8fa9\\u3002\\n\\u65b0\\u503a\\u52a1\\u4eba\\u627f\\u62c5\\u503a\\u52a1\\u7684\\uff0c\\u5e94\\u5f53\\u627f\\u62c5\\u4e0e\\u4e3b\\u503a\\u52a1\\u6709\\u5173\\u7684\\u4ece\\u503a\\u52a1\\uff0c\\u4f46\\u662f\\u8be5\\u4ece\\u503a\\u52a1\\u4e13\\u5c5e\\u4e8e\\u539f\\u503a\\u52a1\\u4eba\\u81ea\\u8eab\\u7684\\u9664\\u5916\\u3002\\n\\n**\\u7b2c\\u4e94\\u767e\\u4e94\\u5341\\u56db\\u6761** \\u5f53\\u4e8b\\u4eba\\u4e00\\u65b9\\u7ecf\\u5bf9\\u65b9\\u540c\\u610f\\uff0c\\u53ef\\u4ee5\\u5c06\\u81ea\\u5df1\\u5728\\u5408\\u540c\\u4e2d\\u7684\\u6743\\u5229\\u548c\\u4e49\\u52a1\\u4e00\\u5e76\\u8f6c\\u8ba9\\u7ed9\\u7b2c\\u4e09\\u4eba\\u3002\\n\\n**\\u7b2c\\u4e94\\u767e\\u4e94\\u5341\\u4e94\\u6761** \\u6743\\u5229\\u548c\\u4e49\\u52a1\\u4e00\\u5e76\\u8f6c\\u8ba9\\u7684\\uff0c\\u9002\\u7528\\u503a\\u6743\\u8f6c\\u8ba9\\u3001\\u503a\\u52a1\\u8f6c\\u8ba9\\u7684\\u6709\\u5173\\u89c4\\u5b9a\\u3002\\n\\n**\\u7b2c\\u4e94\\u767e\\u4e94\\u5341\\u516d\\u6761** \\u5408\\u540c\\u53d8\\u66f4\\u7684\\uff0c\\u4e0d\\u5f71\\u54cd\\u5f53\\u4e8b\\u4eba\\u8bf7\\u6c42\\u635f\\u5bb3\\u8d54\\u507f\\u7684\\u6743\\u5229\\u3002\\n\\n###\",\n",
      "        0.6202714443206787\n",
      "    ],\n",
      "    [\n",
      "        \"\\u7b2c\\u4e94\\u7ae0 \\u5360\\u6709\\n\\n**\\u7b2c\\u56db\\u767e\\u4e03\\u5341\\u4e00\\u6761** \\u5360\\u6709\\u662f\\u6307\\u5bf9\\u7269\\u4e8b\\u5b9e\\u4e0a\\u7684\\u63a7\\u5236\\u548c\\u652f\\u914d\\u3002\\n\\n**\\u7b2c\\u56db\\u767e\\u4e03\\u5341\\u4e8c\\u6761** \\u5360\\u6709\\u53ef\\u4ee5\\u5206\\u4e3a\\u76f4\\u63a5\\u5360\\u6709\\u548c\\u95f4\\u63a5\\u5360\\u6709\\u3002\\n\\u76f4\\u63a5\\u5360\\u6709\\u662f\\u6307\\u76f4\\u63a5\\u5bf9\\u7269\\u8fdb\\u884c\\u63a7\\u5236\\u548c\\u652f\\u914d\\u3002\\n\\u95f4\\u63a5\\u5360\\u6709\\u662f\\u6307\\u901a\\u8fc7\\u4ed6\\u4eba\\u5bf9\\u7269\\u8fdb\\u884c\\u63a7\\u5236\\u548c\\u652f\\u914d\\u3002\\n\\n**\\u7b2c\\u56db\\u767e\\u4e03\\u5341\\u4e09\\u6761** \\u5360\\u6709\\u7684\\u53d6\\u5f97\\u548c\\u6d88\\u706d\\uff0c\\u9002\\u7528\\u672c\\u6cd5\\u6709\\u5173\\u7269\\u6743\\u8bbe\\u7acb\\u548c\\u6d88\\u706d\\u7684\\u89c4\\u5b9a\\u3002\\n\\n**\\u7b2c\\u56db\\u767e\\u4e03\\u5341\\u56db\\u6761** \\u5360\\u6709\\u4eba\\u5408\\u6cd5\\u5360\\u6709\\u52a8\\u4ea7\\u7684\\uff0c\\u5584\\u610f\\u53d6\\u5f97\\u4eba\\u53d6\\u5f97\\u8be5\\u52a8\\u4ea7\\u6240\\u6709\\u6743\\u3002\\n\\u5360\\u6709\\u4eba\\u975e\\u6cd5\\u5360\\u6709\\u52a8\\u4ea7\\u7684\\uff0c\\u5584\\u610f\\u53d6\\u5f97\\u4eba\\u53d6\\u5f97\\u8be5\\u52a8\\u4ea7\\u6240\\u6709\\u6743\\u3002\\n\\n**\\u7b2c\\u56db\\u767e\\u4e03\\u5341\\u4e94\\u6761** \\u5360\\u6709\\u7269\\u6bc1\\u635f\\u3001\\u706d\\u5931\\u7684\\uff0c\\u5360\\u6709\\u4eba\\u5e94\\u5f53\\u627f\\u62c5\\u8d54\\u507f\\u8d23\\u4efb\\u3002\\n\\u5360\\u6709\\u4eba\\u5584\\u610f\\u5360\\u6709\\u7269\\u7684\\uff0c\\u4e0d\\u627f\\u62c5\\u8d54\\u507f\\u8d23\\u4efb\\u3002\\n\\u5360\\u6709\\u4eba\\u6076\\u610f\\u5360\\u6709\\u7269\\u7684\\uff0c\\u5e94\\u5f53\\u627f\\u62c5\\u8d54\\u507f\\u8d23\\u4efb\\u3002\\n\\n**\\u7b2c\\u56db\\u767e\\u4e03\\u5341\\u516d\\u6761** \\u5360\\u6709\\u88ab\\u4fb5\\u593a\\u7684\\uff0c\\u5360\\u6709\\u4eba\\u6709\\u6743\\u8bf7\\u6c42\\u8fd4\\u8fd8\\u539f\\u7269\\u3002\\n\\u5360\\u6709\\u7269\\u6bc1\\u635f\\u3001\\u706d\\u5931\\u7684\\uff0c\\u5360\\u6709\\u4eba\\u6709\\u6743\\u8bf7\\u6c42\\u8d54\\u507f\\u635f\\u5931\\u3002\\n\\n**\\u7b2c\\u56db\\u767e\\u4e03\\u5341\\u4e03\\u6761** \\u5360\\u6709\\u88ab\\u4fb5\\u593a\\u7684\\uff0c\\u5360\\u6709\\u4eba\\u6709\\u6743\\u8bf7\\u6c42\\u8fd4\\u8fd8\\u539f\\u7269\\u3002\\n\\u5360\\u6709\\u7269\\u6bc1\\u635f\\u3001\\u706d\\u5931\\u7684\\uff0c\\u5360\\u6709\\u4eba\\u6709\\u6743\\u8bf7\\u6c42\\u8d54\\u507f\\u635f\\u5931\\u3002\\n\\n**\\u7b2c\\u56db\\u767e\\u4e03\\u5341\\u516b\\u6761** \\u5360\\u6709\\u7269\\u6bc1\\u635f\\u3001\\u706d\\u5931\\u7684\\uff0c\\u5360\\u6709\\u4eba\\u5e94\\u5f53\\u627f\\u62c5\\u8d54\\u507f\\u8d23\\u4efb\\u3002\\n\\u5360\\u6709\\u4eba\\u5584\\u610f\\u5360\\u6709\\u7269\\u7684\\uff0c\\u4e0d\\u627f\\u62c5\\u8d54\\u507f\\u8d23\\u4efb\\u3002\\n\\u5360\\u6709\\u4eba\\u6076\\u610f\\u5360\\u6709\\u7269\\u7684\\uff0c\\u5e94\\u5f53\\u627f\\u62c5\\u8d54\\u507f\\u8d23\\u4efb\\u3002\\n\\n**\\u7b2c\\u56db\\u767e\\u4e03\\u5341\\u4e5d\\u6761** \\u5360\\u6709\\u88ab\\u4fb5\\u593a\\u7684\\uff0c\\u5360\\u6709\\u4eba\\u6709\\u6743\\u8bf7\\u6c42\\u8fd4\\u8fd8\\u539f\\u7269\\u3002\\n\\u5360\\u6709\\u7269\\u6bc1\\u635f\\u3001\\u706d\\u5931\\u7684\\uff0c\\u5360\\u6709\\u4eba\\u6709\\u6743\\u8bf7\\u6c42\\u8d54\\u507f\\u635f\\u5931\\u3002\\n\\n**\\u7b2c\\u56db\\u767e\\u516b\\u5341\\u6761** \\u5360\\u6709\\u7269\\u88ab\\u4fb5\\u593a\\u7684\\uff0c\\u5360\\u6709\\u4eba\\u6709\\u6743\\u8bf7\\u6c42\\u8fd4\\u8fd8\\u539f\\u7269\\u3002\\n\\u5360\\u6709\\u7269\\u6bc1\\u635f\\u3001\\u706d\\u5931\\u7684\\uff0c\\u5360\\u6709\\u4eba\\u6709\\u6743\\u8bf7\\u6c42\\u8d54\\u507f\\u635f\\u5931\\u3002\\n\\n------\\n\\n##\",\n",
      "        0.6135170459747314\n",
      "    ],\n",
      "    [\n",
      "        \"\\u7b2c\\u516d\\u8282 \\u5730\\u5f79\\u6743\\n\\n**\\u7b2c\\u4e09\\u767e\\u516b\\u5341\\u516b\\u6761** \\u5730\\u5f79\\u6743\\u4eba\\u6709\\u6743\\u4f9d\\u7167\\u5408\\u540c\\u7ea6\\u5b9a\\uff0c\\u5229\\u7528\\u4ed6\\u4eba\\u7684\\u4e0d\\u52a8\\u4ea7\\uff0c\\u4ee5\\u63d0\\u9ad8\\u81ea\\u5df1\\u7684\\u4e0d\\u52a8\\u4ea7\\u7684\\u6548\\u76ca\\u3002\\n\\u524d\\u6b3e\\u6240\\u79f0\\u4ed6\\u4eba\\u7684\\u4e0d\\u52a8\\u4ea7\\u4e3a\\u4f9b\\u5f79\\u5730\\uff0c\\u81ea\\u5df1\\u7684\\u4e0d\\u52a8\\u4ea7\\u4e3a\\u9700\\u5f79\\u5730\\u3002\\n\\n**\\u7b2c\\u4e09\\u767e\\u516b\\u5341\\u4e5d\\u6761** \\u5730\\u5f79\\u6743\\u5408\\u540c\\u4e00\\u822c\\u5305\\u62ec\\u4e0b\\u5217\\u6761\\u6b3e\\uff1a\\n\\uff08\\u4e00\\uff09\\u5f53\\u4e8b\\u4eba\\u7684\\u59d3\\u540d\\u6216\\u8005\\u540d\\u79f0\\u548c\\u4f4f\\u6240\\uff1b\\n\\uff08\\u4e8c\\uff09\\u4f9b\\u5f79\\u5730\\u548c\\u9700\\u5f79\\u5730\\u7684\\u4f4d\\u7f6e\\uff1b\\n\\uff08\\u4e09\\uff09\\u5730\\u5f79\\u6743\\u7684\\u76ee\\u7684\\u548c\\u671f\\u9650\\uff1b\\n\\uff08\\u56db\\uff09\\u5229\\u7528\\u4f9b\\u5f79\\u5730\\u7684\\u65b9\\u5f0f\\uff1b\\n\\uff08\\u4e94\\uff09\\u62a5\\u916c\\u53ca\\u5176\\u652f\\u4ed8\\u65b9\\u5f0f\\uff1b\\n\\uff08\\u516d\\uff09\\u4e89\\u8bae\\u89e3\\u51b3\\u65b9\\u5f0f\\u3002\\n\\n**\\u7b2c\\u4e09\\u767e\\u4e5d\\u5341\\u6761** \\u8bbe\\u7acb\\u5730\\u5f79\\u6743\\uff0c\\u5f53\\u4e8b\\u4eba\\u5e94\\u5f53\\u4f9d\\u7167\\u6cd5\\u5f8b\\u89c4\\u5b9a\\u529e\\u7406\\u767b\\u8bb0\\u3002\\n\\u672a\\u7ecf\\u767b\\u8bb0\\uff0c\\u4e0d\\u5f97\\u5bf9\\u6297\\u5584\\u610f\\u7b2c\\u4e09\\u4eba\\u3002\\n\\n**\\u7b2c\\u4e09\\u767e\\u4e5d\\u5341\\u4e00\\u6761** \\u5730\\u5f79\\u6743\\u4eba\\u6709\\u6743\\u4f9d\\u7167\\u5408\\u540c\\u7ea6\\u5b9a\\uff0c\\u5229\\u7528\\u4f9b\\u5f79\\u5730\\uff0c\\u4ee5\\u63d0\\u9ad8\\u9700\\u5f79\\u5730\\u7684\\u6548\\u76ca\\u3002\\n\\u5730\\u5f79\\u6743\\u4eba\\u884c\\u4f7f\\u6743\\u5229\\uff0c\\u4e0d\\u5f97\\u635f\\u5bb3\\u4f9b\\u5f79\\u5730\\u6743\\u5229\\u4eba\\u7684\\u5408\\u6cd5\\u6743\\u76ca\\u3002\\n\\n**\\u7b2c\\u4e09\\u767e\\u4e5d\\u5341\\u4e8c\\u6761** \\u4f9b\\u5f79\\u5730\\u6743\\u5229\\u4eba\\u5e94\\u5f53\\u6309\\u7167\\u7ea6\\u5b9a\\uff0c\\u5141\\u8bb8\\u5730\\u5f79\\u6743\\u4eba\\u5229\\u7528\\u5176\\u571f\\u5730\\u3002\\n\\u4f9b\\u5f79\\u5730\\u6743\\u5229\\u4eba\\u4e0d\\u5f97\\u59a8\\u788d\\u5730\\u5f79\\u6743\\u4eba\\u884c\\u4f7f\\u6743\\u5229\\u3002\\n\\n**\\u7b2c\\u4e09\\u767e\\u4e5d\\u5341\\u4e09\\u6761** \\u5730\\u5f79\\u6743\\u671f\\u9650\\u5c4a\\u6ee1\\u6216\\u8005\\u5730\\u5f79\\u6743\\u4eba\\u653e\\u5f03\\u5730\\u5f79\\u6743\\u7684\\uff0c\\u5730\\u5f79\\u6743\\u6d88\\u706d\\u3002\\n\\u5730\\u5f79\\u6743\\u6d88\\u706d\\u7684\\uff0c\\u767b\\u8bb0\\u673a\\u6784\\u5e94\\u5f53\\u4f9d\\u6cd5\\u529e\\u7406\\u6ce8\\u9500\\u767b\\u8bb0\\u3002\\n\\n**\\u7b2c\\u4e09\\u767e\\u4e5d\\u5341\\u56db\\u6761** \\u5730\\u5f79\\u6743\\u4eba\\u5e94\\u5f53\\u6309\\u7167\\u5408\\u540c\\u7ea6\\u5b9a\\u652f\\u4ed8\\u62a5\\u916c\\u3002\\n\\u5730\\u5f79\\u6743\\u4eba\\u5e94\\u5f53\\u6309\\u7167\\u5408\\u540c\\u7ea6\\u5b9a\\uff0c\\u4ee5\\u5408\\u7406\\u7684\\u65b9\\u5f0f\\u5229\\u7528\\u4f9b\\u5f79\\u5730\\u3002\\n\\n**\\u7b2c\\u4e09\\u767e\\u4e5d\\u5341\\u4e94\\u6761** \\u5730\\u5f79\\u6743\\u4e0d\\u5f97\\u5355\\u72ec\\u8f6c\\u8ba9\\u3002\\u571f\\u5730\\u627f\\u5305\\u7ecf\\u8425\\u6743\\u3001\\u5efa\\u8bbe\\u7528\\u5730\\u4f7f\\u7528\\u6743\\u3001\\u5b85\\u57fa\\u5730\\u4f7f\\u7528\\u6743\\u7b49\\u6743\\u5229\\u8f6c\\u8ba9\\u7684\\uff0c\\u5730\\u5f79\\u6743\\u4e00\\u5e76\\u8f6c\\u8ba9\\u3002\\n\\u5730\\u5f79\\u6743\\u4e0d\\u5f97\\u5355\\u72ec\\u62b5\\u62bc\\u3002\\u571f\\u5730\\u627f\\u5305\\u7ecf\\u8425\\u6743\\u3001\\u5efa\\u8bbe\\u7528\\u5730\\u4f7f\\u7528\\u6743\\u3001\\u5b85\\u57fa\\u5730\\u4f7f\\u7528\\u6743\\u7b49\\u6743\\u5229\\u62b5\\u62bc\\u7684\\uff0c\\u5730\\u5f79\\u6743\\u4e00\\u5e76\\u62b5\\u62bc\\u3002\\n\\n**\\u7b2c\\u4e09\\u767e\\u4e5d\\u5341\\u516d\\u6761** \\u5730\\u5f79\\u6743\\u5b58\\u7eed\\u671f\\u95f4\\uff0c\\u4f9b\\u5f79\\u5730\\u6743\\u5229\\u4eba\\u5c06\\u4f9b\\u5f79\\u5730\\u8f6c\\u8ba9\\u3001\\u51fa\\u79df\\u6216\\u8005\\u62b5\\u62bc\\u7684\\uff0c\\u5730\\u5f79\\u6743\\u4e0d\\u53d7\\u5f71\\u54cd\\u3002\\n\\n**\\u7b2c\\u4e09\\u767e\\u4e5d\\u5341\\u4e03\\u6761** \\u5730\\u5f79\\u6743\\u56e0\\u4f9b\\u5f79\\u5730\\u6743\\u5229\\u4eba\\u5c06\\u4f9b\\u5f79\\u5730\\u8f6c\\u8ba9\\u3001\\u51fa\\u79df\\u6216\\u8005\\u62b5\\u62bc\\u800c\\u6d88\\u706d\\u7684\\uff0c\\u5730\\u5f79\\u6743\\u4eba\\u6709\\u6743\\u8bf7\\u6c42\\u8d54\\u507f\\u635f\\u5931\\u3002\\n\\u5730\\u5f79\\u6743\\u56e0\\u4f9b\\u5f79\\u5730\\u6743\\u5229\\u4eba\\u5c06\\u4f9b\\u5f79\\u5730\\u8f6c\\u8ba9\\u3001\\u51fa\\u79df\\u6216\\u8005\\u62b5\\u62bc\\u800c\\u6d88\\u706d\\u7684\\uff0c\\u5730\\u5f79\\u6743\\u4eba\\u53ef\\u4ee5\\u5411\\u4f9b\\u5f79\\u5730\\u6743\\u5229\\u4eba\\u8bf7\\u6c42\\u635f\\u5bb3\\u8d54\\u507f\\u3002\\n\\n**\\u7b2c\\u4e09\\u767e\\u4e5d\\u5341\\u516b\\u6761** \\u5730\\u5f79\\u6743\\u4eba\\u6709\\u6743\\u4f9d\\u7167\\u5408\\u540c\\u7ea6\\u5b9a\\uff0c\\u5229\\u7528\\u4ed6\\u4eba\\u7684\\u4e0d\\u52a8\\u4ea7\\uff0c\\u4ee5\\u63d0\\u9ad8\\u81ea\\u5df1\\u7684\\u4e0d\\u52a8\\u4ea7\\u7684\\u6548\\u76ca\\u3002\\n\\u524d\\u6b3e\\u6240\\u79f0\\u4ed6\\u4eba\\u7684\\u4e0d\\u52a8\\u4ea7\\u4e3a\\u4f9b\\u5f79\\u5730\\uff0c\\u81ea\\u5df1\\u7684\\u4e0d\\u52a8\\u4ea7\\u4e3a\\u9700\\u5f79\\u5730\\u3002\\n\\n###\",\n",
      "        0.6055375337600708\n",
      "    ]\n",
      "]\n"
     ]
    }
   ],
   "source": [
    "import json\n",
    "\n",
    "retrieved_lines_with_distances = [\n",
    "    (res[\"entity\"][\"text\"], res[\"distance\"]) for res in search_res[0]\n",
    "]\n",
    "print(json.dumps(retrieved_lines_with_distances, indent=4))"
   ]
  },
  {
   "cell_type": "markdown",
   "id": "ccd4c186",
   "metadata": {},
   "source": [
    "### 使用 LLM 获取 RAG 响应"
   ]
  },
  {
   "cell_type": "markdown",
   "id": "4cd1ae3a",
   "metadata": {},
   "source": [
    "将检索到的文档转换为字符串格式。"
   ]
  },
  {
   "cell_type": "code",
   "execution_count": 16,
   "id": "0676448f",
   "metadata": {},
   "outputs": [],
   "source": [
    "context = \"\\n\".join(\n",
    "    [line_with_distance[0] for line_with_distance in retrieved_lines_with_distances]\n",
    ")"
   ]
  },
  {
   "cell_type": "code",
   "execution_count": 17,
   "id": "107df42a-b3f7-48a8-b66b-fc82fe3ec174",
   "metadata": {},
   "outputs": [
    {
     "data": {
      "text/plain": [
       "'第三章 合同的变更和转让\\n\\n**第五百四十八条** 当事人协商一致，可以变更合同。\\n\\n**第五百四十九条** 当事人对合同变更的内容约定不明确的，推定为未变更。\\n\\n**第五百五十条** 债权人可以将合同的权利全部或者部分转让给第三人，但是有下列情形之一的除外：\\n（一）根据合同性质不得转让；\\n（二）按照当事人约定不得转让；\\n（三）依照法律规定不得转让。\\n债权人转让权利的，应当通知债务人。未经通知，该转让对债务人不发生效力。\\n\\n**第五百五十一条** 债权人转让权利的，受让人取得与债权有关的从权利，但是该从权利专属于债权人自身的除外。\\n\\n**第五百五十二条** 债务人将合同的义务全部或者部分转让给第三人的，应当经债权人同意。\\n\\n**第五百五十三条** 债务人转让义务的，新债务人可以主张原债务人对债权人的抗辩。\\n新债务人承担债务的，应当承担与主债务有关的从债务，但是该从债务专属于原债务人自身的除外。\\n\\n**第五百五十四条** 当事人一方经对方同意，可以将自己在合同中的权利和义务一并转让给第三人。\\n\\n**第五百五十五条** 权利和义务一并转让的，适用债权转让、债务转让的有关规定。\\n\\n**第五百五十六条** 合同变更的，不影响当事人请求损害赔偿的权利。\\n\\n###\\n第五章 占有\\n\\n**第四百七十一条** 占有是指对物事实上的控制和支配。\\n\\n**第四百七十二条** 占有可以分为直接占有和间接占有。\\n直接占有是指直接对物进行控制和支配。\\n间接占有是指通过他人对物进行控制和支配。\\n\\n**第四百七十三条** 占有的取得和消灭，适用本法有关物权设立和消灭的规定。\\n\\n**第四百七十四条** 占有人合法占有动产的，善意取得人取得该动产所有权。\\n占有人非法占有动产的，善意取得人取得该动产所有权。\\n\\n**第四百七十五条** 占有物毁损、灭失的，占有人应当承担赔偿责任。\\n占有人善意占有物的，不承担赔偿责任。\\n占有人恶意占有物的，应当承担赔偿责任。\\n\\n**第四百七十六条** 占有被侵夺的，占有人有权请求返还原物。\\n占有物毁损、灭失的，占有人有权请求赔偿损失。\\n\\n**第四百七十七条** 占有被侵夺的，占有人有权请求返还原物。\\n占有物毁损、灭失的，占有人有权请求赔偿损失。\\n\\n**第四百七十八条** 占有物毁损、灭失的，占有人应当承担赔偿责任。\\n占有人善意占有物的，不承担赔偿责任。\\n占有人恶意占有物的，应当承担赔偿责任。\\n\\n**第四百七十九条** 占有被侵夺的，占有人有权请求返还原物。\\n占有物毁损、灭失的，占有人有权请求赔偿损失。\\n\\n**第四百八十条** 占有物被侵夺的，占有人有权请求返还原物。\\n占有物毁损、灭失的，占有人有权请求赔偿损失。\\n\\n------\\n\\n##\\n第六节 地役权\\n\\n**第三百八十八条** 地役权人有权依照合同约定，利用他人的不动产，以提高自己的不动产的效益。\\n前款所称他人的不动产为供役地，自己的不动产为需役地。\\n\\n**第三百八十九条** 地役权合同一般包括下列条款：\\n（一）当事人的姓名或者名称和住所；\\n（二）供役地和需役地的位置；\\n（三）地役权的目的和期限；\\n（四）利用供役地的方式；\\n（五）报酬及其支付方式；\\n（六）争议解决方式。\\n\\n**第三百九十条** 设立地役权，当事人应当依照法律规定办理登记。\\n未经登记，不得对抗善意第三人。\\n\\n**第三百九十一条** 地役权人有权依照合同约定，利用供役地，以提高需役地的效益。\\n地役权人行使权利，不得损害供役地权利人的合法权益。\\n\\n**第三百九十二条** 供役地权利人应当按照约定，允许地役权人利用其土地。\\n供役地权利人不得妨碍地役权人行使权利。\\n\\n**第三百九十三条** 地役权期限届满或者地役权人放弃地役权的，地役权消灭。\\n地役权消灭的，登记机构应当依法办理注销登记。\\n\\n**第三百九十四条** 地役权人应当按照合同约定支付报酬。\\n地役权人应当按照合同约定，以合理的方式利用供役地。\\n\\n**第三百九十五条** 地役权不得单独转让。土地承包经营权、建设用地使用权、宅基地使用权等权利转让的，地役权一并转让。\\n地役权不得单独抵押。土地承包经营权、建设用地使用权、宅基地使用权等权利抵押的，地役权一并抵押。\\n\\n**第三百九十六条** 地役权存续期间，供役地权利人将供役地转让、出租或者抵押的，地役权不受影响。\\n\\n**第三百九十七条** 地役权因供役地权利人将供役地转让、出租或者抵押而消灭的，地役权人有权请求赔偿损失。\\n地役权因供役地权利人将供役地转让、出租或者抵押而消灭的，地役权人可以向供役地权利人请求损害赔偿。\\n\\n**第三百九十八条** 地役权人有权依照合同约定，利用他人的不动产，以提高自己的不动产的效益。\\n前款所称他人的不动产为供役地，自己的不动产为需役地。\\n\\n###'"
      ]
     },
     "execution_count": 17,
     "metadata": {},
     "output_type": "execute_result"
    }
   ],
   "source": [
    "context"
   ]
  },
  {
   "cell_type": "code",
   "execution_count": 18,
   "id": "19998758-7f98-4cb8-8789-625fcfaad00e",
   "metadata": {},
   "outputs": [
    {
     "data": {
      "text/plain": [
       "'物权有哪些'"
      ]
     },
     "execution_count": 18,
     "metadata": {},
     "output_type": "execute_result"
    }
   ],
   "source": [
    "question"
   ]
  },
  {
   "cell_type": "markdown",
   "id": "7ad25756",
   "metadata": {},
   "source": [
    "为语言模型定义系统和用户提示。此提示是使用从 Milvus 检索到的文档组装而成的。"
   ]
  },
  {
   "cell_type": "code",
   "execution_count": 19,
   "id": "b655f6f3",
   "metadata": {},
   "outputs": [],
   "source": [
    "SYSTEM_PROMPT = \"\"\"\n",
    "Human: 你是一个 AI 助手。你能够从提供的上下文段落片段中找到问题的答案。\n",
    "\"\"\"\n",
    "USER_PROMPT = f\"\"\"\n",
    "请使用以下用 <context> 标签括起来的信息片段来回答用 <question> 标签括起来的问题。\n",
    "<context>\n",
    "{context}\n",
    "</context>\n",
    "<question>\n",
    "{question}\n",
    "</question>\n",
    "\"\"\""
   ]
  },
  {
   "cell_type": "code",
   "execution_count": 20,
   "id": "97089c31-f85c-47a9-8498-78520513bc67",
   "metadata": {},
   "outputs": [
    {
     "data": {
      "text/plain": [
       "'\\n请使用以下用 <context> 标签括起来的信息片段来回答用 <question> 标签括起来的问题。\\n<context>\\n第三章 合同的变更和转让\\n\\n**第五百四十八条** 当事人协商一致，可以变更合同。\\n\\n**第五百四十九条** 当事人对合同变更的内容约定不明确的，推定为未变更。\\n\\n**第五百五十条** 债权人可以将合同的权利全部或者部分转让给第三人，但是有下列情形之一的除外：\\n（一）根据合同性质不得转让；\\n（二）按照当事人约定不得转让；\\n（三）依照法律规定不得转让。\\n债权人转让权利的，应当通知债务人。未经通知，该转让对债务人不发生效力。\\n\\n**第五百五十一条** 债权人转让权利的，受让人取得与债权有关的从权利，但是该从权利专属于债权人自身的除外。\\n\\n**第五百五十二条** 债务人将合同的义务全部或者部分转让给第三人的，应当经债权人同意。\\n\\n**第五百五十三条** 债务人转让义务的，新债务人可以主张原债务人对债权人的抗辩。\\n新债务人承担债务的，应当承担与主债务有关的从债务，但是该从债务专属于原债务人自身的除外。\\n\\n**第五百五十四条** 当事人一方经对方同意，可以将自己在合同中的权利和义务一并转让给第三人。\\n\\n**第五百五十五条** 权利和义务一并转让的，适用债权转让、债务转让的有关规定。\\n\\n**第五百五十六条** 合同变更的，不影响当事人请求损害赔偿的权利。\\n\\n###\\n第五章 占有\\n\\n**第四百七十一条** 占有是指对物事实上的控制和支配。\\n\\n**第四百七十二条** 占有可以分为直接占有和间接占有。\\n直接占有是指直接对物进行控制和支配。\\n间接占有是指通过他人对物进行控制和支配。\\n\\n**第四百七十三条** 占有的取得和消灭，适用本法有关物权设立和消灭的规定。\\n\\n**第四百七十四条** 占有人合法占有动产的，善意取得人取得该动产所有权。\\n占有人非法占有动产的，善意取得人取得该动产所有权。\\n\\n**第四百七十五条** 占有物毁损、灭失的，占有人应当承担赔偿责任。\\n占有人善意占有物的，不承担赔偿责任。\\n占有人恶意占有物的，应当承担赔偿责任。\\n\\n**第四百七十六条** 占有被侵夺的，占有人有权请求返还原物。\\n占有物毁损、灭失的，占有人有权请求赔偿损失。\\n\\n**第四百七十七条** 占有被侵夺的，占有人有权请求返还原物。\\n占有物毁损、灭失的，占有人有权请求赔偿损失。\\n\\n**第四百七十八条** 占有物毁损、灭失的，占有人应当承担赔偿责任。\\n占有人善意占有物的，不承担赔偿责任。\\n占有人恶意占有物的，应当承担赔偿责任。\\n\\n**第四百七十九条** 占有被侵夺的，占有人有权请求返还原物。\\n占有物毁损、灭失的，占有人有权请求赔偿损失。\\n\\n**第四百八十条** 占有物被侵夺的，占有人有权请求返还原物。\\n占有物毁损、灭失的，占有人有权请求赔偿损失。\\n\\n------\\n\\n##\\n第六节 地役权\\n\\n**第三百八十八条** 地役权人有权依照合同约定，利用他人的不动产，以提高自己的不动产的效益。\\n前款所称他人的不动产为供役地，自己的不动产为需役地。\\n\\n**第三百八十九条** 地役权合同一般包括下列条款：\\n（一）当事人的姓名或者名称和住所；\\n（二）供役地和需役地的位置；\\n（三）地役权的目的和期限；\\n（四）利用供役地的方式；\\n（五）报酬及其支付方式；\\n（六）争议解决方式。\\n\\n**第三百九十条** 设立地役权，当事人应当依照法律规定办理登记。\\n未经登记，不得对抗善意第三人。\\n\\n**第三百九十一条** 地役权人有权依照合同约定，利用供役地，以提高需役地的效益。\\n地役权人行使权利，不得损害供役地权利人的合法权益。\\n\\n**第三百九十二条** 供役地权利人应当按照约定，允许地役权人利用其土地。\\n供役地权利人不得妨碍地役权人行使权利。\\n\\n**第三百九十三条** 地役权期限届满或者地役权人放弃地役权的，地役权消灭。\\n地役权消灭的，登记机构应当依法办理注销登记。\\n\\n**第三百九十四条** 地役权人应当按照合同约定支付报酬。\\n地役权人应当按照合同约定，以合理的方式利用供役地。\\n\\n**第三百九十五条** 地役权不得单独转让。土地承包经营权、建设用地使用权、宅基地使用权等权利转让的，地役权一并转让。\\n地役权不得单独抵押。土地承包经营权、建设用地使用权、宅基地使用权等权利抵押的，地役权一并抵押。\\n\\n**第三百九十六条** 地役权存续期间，供役地权利人将供役地转让、出租或者抵押的，地役权不受影响。\\n\\n**第三百九十七条** 地役权因供役地权利人将供役地转让、出租或者抵押而消灭的，地役权人有权请求赔偿损失。\\n地役权因供役地权利人将供役地转让、出租或者抵押而消灭的，地役权人可以向供役地权利人请求损害赔偿。\\n\\n**第三百九十八条** 地役权人有权依照合同约定，利用他人的不动产，以提高自己的不动产的效益。\\n前款所称他人的不动产为供役地，自己的不动产为需役地。\\n\\n###\\n</context>\\n<question>\\n物权有哪些\\n</question>\\n'"
      ]
     },
     "execution_count": 20,
     "metadata": {},
     "output_type": "execute_result"
    }
   ],
   "source": [
    "USER_PROMPT"
   ]
  },
  {
   "cell_type": "markdown",
   "id": "184b457f",
   "metadata": {},
   "source": [
    "使用 DeepSeek 提供的 `deepseek-chat` 模型根据提示生成响应。"
   ]
  },
  {
   "cell_type": "code",
   "execution_count": 21,
   "id": "638a7561",
   "metadata": {},
   "outputs": [
    {
     "name": "stdout",
     "output_type": "stream",
     "text": [
      "根据提供的上下文，物权主要包括以下几种类型：\n",
      "\n",
      "1. **占有**（第四百七十一条至第四百八十条）：\n",
      "   - 对物事实上的控制和支配，分为直接占有和间接占有。\n",
      "   - 涉及占有的取得、消灭、善意/恶意占有的责任及占有被侵夺时的救济。\n",
      "\n",
      "2. **地役权**（第三百八十八条至第三百九十八条）：\n",
      "   - 地役权人有权利用他人的不动产（供役地）以提高自己的不动产（需役地）的效益。\n",
      "   - 包括地役权的设立、登记、行使、转让、消灭及相关的权利义务。\n",
      "\n",
      "此外，虽然上下文未明确列出其他物权类型，但根据中国《民法典》物权编的完整内容，物权通常还包括所有权、用益物权（如土地承包经营权、建设用地使用权、宅基地使用权等）和担保物权（如抵押权、质权、留置权）。当前提供的片段中仅详细涉及**占有**和**地役权**（用益物权的一种）。\n"
     ]
    }
   ],
   "source": [
    "response = deepseek_client.chat.completions.create(\n",
    "    model=\"deepseek-chat\",\n",
    "    messages=[\n",
    "        {\"role\": \"system\", \"content\": SYSTEM_PROMPT},\n",
    "        {\"role\": \"user\", \"content\": USER_PROMPT},\n",
    "    ],\n",
    ")\n",
    "print(response.choices[0].message.content)"
   ]
  },
  {
   "cell_type": "code",
   "execution_count": 22,
   "id": "50ce3b55-7daa-4727-95bd-3b00f6aa2b03",
   "metadata": {},
   "outputs": [],
   "source": [
    "question = \"农村集体经济的财产怎么确权\" "
   ]
  },
  {
   "cell_type": "code",
   "execution_count": 23,
   "id": "daf01167-22e5-411c-bcec-43c2dc5a6249",
   "metadata": {},
   "outputs": [],
   "source": [
    "search_res = milvus_client.search(\n",
    "    collection_name=collection_name,\n",
    "    data=embedding_model.encode_queries(\n",
    "        [question]\n",
    "    ),  # 将问题转换为嵌入向量\n",
    "    limit=3,  # 返回前3个结果\n",
    "    search_params={\"metric_type\": \"IP\", \"params\": {}},  # 内积距离\n",
    "    output_fields=[\"text\"],  # 返回 text 字段\n",
    ")"
   ]
  },
  {
   "cell_type": "code",
   "execution_count": 24,
   "id": "fbf5cdb3-864f-449c-bed2-2411fdc710c2",
   "metadata": {},
   "outputs": [],
   "source": [
    "context = \"\\n\".join(\n",
    "    [line_with_distance[0] for line_with_distance in retrieved_lines_with_distances]\n",
    ")"
   ]
  },
  {
   "cell_type": "code",
   "execution_count": 25,
   "id": "fc9b8071-229d-463b-a211-4e21f9f1a623",
   "metadata": {},
   "outputs": [
    {
     "data": {
      "text/plain": [
       "'第三章 合同的变更和转让\\n\\n**第五百四十八条** 当事人协商一致，可以变更合同。\\n\\n**第五百四十九条** 当事人对合同变更的内容约定不明确的，推定为未变更。\\n\\n**第五百五十条** 债权人可以将合同的权利全部或者部分转让给第三人，但是有下列情形之一的除外：\\n（一）根据合同性质不得转让；\\n（二）按照当事人约定不得转让；\\n（三）依照法律规定不得转让。\\n债权人转让权利的，应当通知债务人。未经通知，该转让对债务人不发生效力。\\n\\n**第五百五十一条** 债权人转让权利的，受让人取得与债权有关的从权利，但是该从权利专属于债权人自身的除外。\\n\\n**第五百五十二条** 债务人将合同的义务全部或者部分转让给第三人的，应当经债权人同意。\\n\\n**第五百五十三条** 债务人转让义务的，新债务人可以主张原债务人对债权人的抗辩。\\n新债务人承担债务的，应当承担与主债务有关的从债务，但是该从债务专属于原债务人自身的除外。\\n\\n**第五百五十四条** 当事人一方经对方同意，可以将自己在合同中的权利和义务一并转让给第三人。\\n\\n**第五百五十五条** 权利和义务一并转让的，适用债权转让、债务转让的有关规定。\\n\\n**第五百五十六条** 合同变更的，不影响当事人请求损害赔偿的权利。\\n\\n###\\n第五章 占有\\n\\n**第四百七十一条** 占有是指对物事实上的控制和支配。\\n\\n**第四百七十二条** 占有可以分为直接占有和间接占有。\\n直接占有是指直接对物进行控制和支配。\\n间接占有是指通过他人对物进行控制和支配。\\n\\n**第四百七十三条** 占有的取得和消灭，适用本法有关物权设立和消灭的规定。\\n\\n**第四百七十四条** 占有人合法占有动产的，善意取得人取得该动产所有权。\\n占有人非法占有动产的，善意取得人取得该动产所有权。\\n\\n**第四百七十五条** 占有物毁损、灭失的，占有人应当承担赔偿责任。\\n占有人善意占有物的，不承担赔偿责任。\\n占有人恶意占有物的，应当承担赔偿责任。\\n\\n**第四百七十六条** 占有被侵夺的，占有人有权请求返还原物。\\n占有物毁损、灭失的，占有人有权请求赔偿损失。\\n\\n**第四百七十七条** 占有被侵夺的，占有人有权请求返还原物。\\n占有物毁损、灭失的，占有人有权请求赔偿损失。\\n\\n**第四百七十八条** 占有物毁损、灭失的，占有人应当承担赔偿责任。\\n占有人善意占有物的，不承担赔偿责任。\\n占有人恶意占有物的，应当承担赔偿责任。\\n\\n**第四百七十九条** 占有被侵夺的，占有人有权请求返还原物。\\n占有物毁损、灭失的，占有人有权请求赔偿损失。\\n\\n**第四百八十条** 占有物被侵夺的，占有人有权请求返还原物。\\n占有物毁损、灭失的，占有人有权请求赔偿损失。\\n\\n------\\n\\n##\\n第六节 地役权\\n\\n**第三百八十八条** 地役权人有权依照合同约定，利用他人的不动产，以提高自己的不动产的效益。\\n前款所称他人的不动产为供役地，自己的不动产为需役地。\\n\\n**第三百八十九条** 地役权合同一般包括下列条款：\\n（一）当事人的姓名或者名称和住所；\\n（二）供役地和需役地的位置；\\n（三）地役权的目的和期限；\\n（四）利用供役地的方式；\\n（五）报酬及其支付方式；\\n（六）争议解决方式。\\n\\n**第三百九十条** 设立地役权，当事人应当依照法律规定办理登记。\\n未经登记，不得对抗善意第三人。\\n\\n**第三百九十一条** 地役权人有权依照合同约定，利用供役地，以提高需役地的效益。\\n地役权人行使权利，不得损害供役地权利人的合法权益。\\n\\n**第三百九十二条** 供役地权利人应当按照约定，允许地役权人利用其土地。\\n供役地权利人不得妨碍地役权人行使权利。\\n\\n**第三百九十三条** 地役权期限届满或者地役权人放弃地役权的，地役权消灭。\\n地役权消灭的，登记机构应当依法办理注销登记。\\n\\n**第三百九十四条** 地役权人应当按照合同约定支付报酬。\\n地役权人应当按照合同约定，以合理的方式利用供役地。\\n\\n**第三百九十五条** 地役权不得单独转让。土地承包经营权、建设用地使用权、宅基地使用权等权利转让的，地役权一并转让。\\n地役权不得单独抵押。土地承包经营权、建设用地使用权、宅基地使用权等权利抵押的，地役权一并抵押。\\n\\n**第三百九十六条** 地役权存续期间，供役地权利人将供役地转让、出租或者抵押的，地役权不受影响。\\n\\n**第三百九十七条** 地役权因供役地权利人将供役地转让、出租或者抵押而消灭的，地役权人有权请求赔偿损失。\\n地役权因供役地权利人将供役地转让、出租或者抵押而消灭的，地役权人可以向供役地权利人请求损害赔偿。\\n\\n**第三百九十八条** 地役权人有权依照合同约定，利用他人的不动产，以提高自己的不动产的效益。\\n前款所称他人的不动产为供役地，自己的不动产为需役地。\\n\\n###'"
      ]
     },
     "execution_count": 25,
     "metadata": {},
     "output_type": "execute_result"
    }
   ],
   "source": [
    "context"
   ]
  },
  {
   "cell_type": "code",
   "execution_count": 26,
   "id": "00cdf3fd-6b10-495f-bd3d-1f2998f6eb7f",
   "metadata": {},
   "outputs": [
    {
     "data": {
      "text/plain": [
       "'农村集体经济的财产怎么确权'"
      ]
     },
     "execution_count": 26,
     "metadata": {},
     "output_type": "execute_result"
    }
   ],
   "source": [
    "question"
   ]
  },
  {
   "cell_type": "code",
   "execution_count": 27,
   "id": "9c4433f0-6f57-4d52-939a-dd27492878bf",
   "metadata": {},
   "outputs": [],
   "source": [
    "SYSTEM_PROMPT = \"\"\"\n",
    "Human: 你是一个 AI 助手。你能够从提供的上下文段落片段中找到问题的答案。\n",
    "\"\"\"\n",
    "USER_PROMPT = f\"\"\"\n",
    "请使用以下用 <context> 标签括起来的信息片段来回答用 <question> 标签括起来的问题。\n",
    "<context>\n",
    "{context}\n",
    "</context>\n",
    "<question>\n",
    "{question}\n",
    "</question>\n",
    "\"\"\""
   ]
  },
  {
   "cell_type": "code",
   "execution_count": 28,
   "id": "5da3456e-4075-49cb-9e38-a7d534d61b3d",
   "metadata": {},
   "outputs": [
    {
     "data": {
      "text/plain": [
       "'\\n请使用以下用 <context> 标签括起来的信息片段来回答用 <question> 标签括起来的问题。\\n<context>\\n第三章 合同的变更和转让\\n\\n**第五百四十八条** 当事人协商一致，可以变更合同。\\n\\n**第五百四十九条** 当事人对合同变更的内容约定不明确的，推定为未变更。\\n\\n**第五百五十条** 债权人可以将合同的权利全部或者部分转让给第三人，但是有下列情形之一的除外：\\n（一）根据合同性质不得转让；\\n（二）按照当事人约定不得转让；\\n（三）依照法律规定不得转让。\\n债权人转让权利的，应当通知债务人。未经通知，该转让对债务人不发生效力。\\n\\n**第五百五十一条** 债权人转让权利的，受让人取得与债权有关的从权利，但是该从权利专属于债权人自身的除外。\\n\\n**第五百五十二条** 债务人将合同的义务全部或者部分转让给第三人的，应当经债权人同意。\\n\\n**第五百五十三条** 债务人转让义务的，新债务人可以主张原债务人对债权人的抗辩。\\n新债务人承担债务的，应当承担与主债务有关的从债务，但是该从债务专属于原债务人自身的除外。\\n\\n**第五百五十四条** 当事人一方经对方同意，可以将自己在合同中的权利和义务一并转让给第三人。\\n\\n**第五百五十五条** 权利和义务一并转让的，适用债权转让、债务转让的有关规定。\\n\\n**第五百五十六条** 合同变更的，不影响当事人请求损害赔偿的权利。\\n\\n###\\n第五章 占有\\n\\n**第四百七十一条** 占有是指对物事实上的控制和支配。\\n\\n**第四百七十二条** 占有可以分为直接占有和间接占有。\\n直接占有是指直接对物进行控制和支配。\\n间接占有是指通过他人对物进行控制和支配。\\n\\n**第四百七十三条** 占有的取得和消灭，适用本法有关物权设立和消灭的规定。\\n\\n**第四百七十四条** 占有人合法占有动产的，善意取得人取得该动产所有权。\\n占有人非法占有动产的，善意取得人取得该动产所有权。\\n\\n**第四百七十五条** 占有物毁损、灭失的，占有人应当承担赔偿责任。\\n占有人善意占有物的，不承担赔偿责任。\\n占有人恶意占有物的，应当承担赔偿责任。\\n\\n**第四百七十六条** 占有被侵夺的，占有人有权请求返还原物。\\n占有物毁损、灭失的，占有人有权请求赔偿损失。\\n\\n**第四百七十七条** 占有被侵夺的，占有人有权请求返还原物。\\n占有物毁损、灭失的，占有人有权请求赔偿损失。\\n\\n**第四百七十八条** 占有物毁损、灭失的，占有人应当承担赔偿责任。\\n占有人善意占有物的，不承担赔偿责任。\\n占有人恶意占有物的，应当承担赔偿责任。\\n\\n**第四百七十九条** 占有被侵夺的，占有人有权请求返还原物。\\n占有物毁损、灭失的，占有人有权请求赔偿损失。\\n\\n**第四百八十条** 占有物被侵夺的，占有人有权请求返还原物。\\n占有物毁损、灭失的，占有人有权请求赔偿损失。\\n\\n------\\n\\n##\\n第六节 地役权\\n\\n**第三百八十八条** 地役权人有权依照合同约定，利用他人的不动产，以提高自己的不动产的效益。\\n前款所称他人的不动产为供役地，自己的不动产为需役地。\\n\\n**第三百八十九条** 地役权合同一般包括下列条款：\\n（一）当事人的姓名或者名称和住所；\\n（二）供役地和需役地的位置；\\n（三）地役权的目的和期限；\\n（四）利用供役地的方式；\\n（五）报酬及其支付方式；\\n（六）争议解决方式。\\n\\n**第三百九十条** 设立地役权，当事人应当依照法律规定办理登记。\\n未经登记，不得对抗善意第三人。\\n\\n**第三百九十一条** 地役权人有权依照合同约定，利用供役地，以提高需役地的效益。\\n地役权人行使权利，不得损害供役地权利人的合法权益。\\n\\n**第三百九十二条** 供役地权利人应当按照约定，允许地役权人利用其土地。\\n供役地权利人不得妨碍地役权人行使权利。\\n\\n**第三百九十三条** 地役权期限届满或者地役权人放弃地役权的，地役权消灭。\\n地役权消灭的，登记机构应当依法办理注销登记。\\n\\n**第三百九十四条** 地役权人应当按照合同约定支付报酬。\\n地役权人应当按照合同约定，以合理的方式利用供役地。\\n\\n**第三百九十五条** 地役权不得单独转让。土地承包经营权、建设用地使用权、宅基地使用权等权利转让的，地役权一并转让。\\n地役权不得单独抵押。土地承包经营权、建设用地使用权、宅基地使用权等权利抵押的，地役权一并抵押。\\n\\n**第三百九十六条** 地役权存续期间，供役地权利人将供役地转让、出租或者抵押的，地役权不受影响。\\n\\n**第三百九十七条** 地役权因供役地权利人将供役地转让、出租或者抵押而消灭的，地役权人有权请求赔偿损失。\\n地役权因供役地权利人将供役地转让、出租或者抵押而消灭的，地役权人可以向供役地权利人请求损害赔偿。\\n\\n**第三百九十八条** 地役权人有权依照合同约定，利用他人的不动产，以提高自己的不动产的效益。\\n前款所称他人的不动产为供役地，自己的不动产为需役地。\\n\\n###\\n</context>\\n<question>\\n农村集体经济的财产怎么确权\\n</question>\\n'"
      ]
     },
     "execution_count": 28,
     "metadata": {},
     "output_type": "execute_result"
    }
   ],
   "source": [
    "USER_PROMPT"
   ]
  },
  {
   "cell_type": "code",
   "execution_count": 29,
   "id": "9a8ef54e-5358-4142-ac5c-5e298912a375",
   "metadata": {},
   "outputs": [
    {
     "name": "stdout",
     "output_type": "stream",
     "text": [
      "根据提供的上下文，虽然未直接提及“农村集体经济的财产确权”的具体条款，但可以从相关物权和合同规定中推导出以下法律依据和原则：\n",
      "\n",
      "1. **物权登记原则**（第三百九十条）：  \n",
      "   地役权等物权的设立需依法办理登记，未经登记不得对抗善意第三人。这一原则可类推适用于农村集体财产的确权，即需通过法定登记程序（如不动产登记）明确权属。\n",
      "\n",
      "2. **合同约定与转让规则**（第五百四十八条至第五百五十六条）：  \n",
      "   - 财产权利的转让或变更需经当事人协商一致（第五百四十八条），且内容约定需明确（第五百四十九条）。  \n",
      "   - 集体财产的转让若涉及债权债务，需遵循债权转让（需通知债务人）或债务转让（需债权人同意）的规定（第五百五十条至第五百五十三条）。\n",
      "\n",
      "3. **占有与善意取得**（第四百七十四条）：  \n",
      "   - 合法占有的动产可通过善意取得制度确权。若农村集体财产被非法占有，善意第三人可能取得所有权，但恶意占有人需承担赔偿责任（第四百七十五条、第四百七十八条）。\n",
      "\n",
      "4. **地役权的关联性**（第三百九十五条）：  \n",
      "   农村土地权利（如土地承包经营权、宅基地使用权）转让时，附属的地役权一并转让。确权需注意这些关联权利的完整性。\n",
      "\n",
      "**建议操作步骤**：  \n",
      "- **登记确权**：通过不动产登记机构办理集体土地、房屋等财产的权属登记。  \n",
      "- **合同明确**：涉及集体财产流转时，签订书面合同并明确权利义务（参考第三百八十九条）。  \n",
      "- **争议解决**：若权属争议，占有人可请求返还原物或赔偿（第四百七十六条至第四百八十条）。  \n",
      "\n",
      "注：具体确权流程需结合《民法典》其他章节及《土地管理法》等特别法规。\n"
     ]
    }
   ],
   "source": [
    "response = deepseek_client.chat.completions.create(\n",
    "    model=\"deepseek-chat\",\n",
    "    messages=[\n",
    "        {\"role\": \"system\", \"content\": SYSTEM_PROMPT},\n",
    "        {\"role\": \"user\", \"content\": USER_PROMPT},\n",
    "    ],\n",
    ")\n",
    "print(response.choices[0].message.content)"
   ]
  }
 ],
 "metadata": {
  "kernelspec": {
   "display_name": "Python 3 (ipykernel)",
   "language": "python",
   "name": "python3"
  },
  "language_info": {
   "codemirror_mode": {
    "name": "ipython",
    "version": 3
   },
   "file_extension": ".py",
   "mimetype": "text/x-python",
   "name": "python",
   "nbconvert_exporter": "python",
   "pygments_lexer": "ipython3",
   "version": "3.10.8"
  }
 },
 "nbformat": 4,
 "nbformat_minor": 5
}

{
 "cells": [
  {
   "cell_type": "markdown",
   "id": "da508896-71e7-4475-a9ec-da8d011c6fd1",
   "metadata": {},
   "source": [
    "# PEFT 库 QLoRA 实战 - ChatGLM3-6B"
   ]
  },
  {
   "cell_type": "markdown",
   "id": "db94012b-59a8-4231-b2c8-210ae878b749",
   "metadata": {},
   "source": [
    "通常，模型被量化后不会进一步训练用于下游任务，因为由于权重和激活的较低精度，训练可能不稳定。"
   ]
  },
  {
   "cell_type": "markdown",
   "id": "33387b25-f8fe-4208-89ab-5bddb69a9a18",
   "metadata": {},
   "source": [
    "但是由于PEFT方法只添加额外的可训练参数，这使得我们可以使用PEFT适配器（Adapter）来训练一个量化模型！将量化与PEFT结合起来可以成为在单个GPU上训练大模型的微调策略。"
   ]
  },
  {
   "cell_type": "markdown",
   "id": "5c60aa53-ed04-41dc-925e-9e33da072b3a",
   "metadata": {},
   "source": [
    "例如，QLoRA 是一种将模型量化为4位然后使用LoRA进行训练的方法，使得在单个16GB GPU（本教程以 NVIDIA T4为例）上微调一个具有65B参数的大模型成为可能。"
   ]
  },
  {
   "cell_type": "markdown",
   "id": "54312509-f5f8-4f85-88e7-28e7b4b70c17",
   "metadata": {},
   "source": [
    "THUDM Hugging Face 主页：https://huggingface.co/THUDM"
   ]
  },
  {
   "cell_type": "markdown",
   "id": "1499573c-1c39-4d0d-8bae-6061cf325574",
   "metadata": {},
   "source": [
    "# 教程说明"
   ]
  },
  {
   "cell_type": "markdown",
   "id": "1950b4c1-fef8-483a-b6e9-ca8c519c98be",
   "metadata": {},
   "source": [
    "本教程使用 QLoRA 论文中介绍的量化技术：NF4 数据类型、双量化 和 混合精度计算，在 ChatGLM3-6b 模型上实现了 QLoRA 微调。并展示了完整的 QLoRA 微调流程，具体如下："
   ]
  },
  {
   "cell_type": "markdown",
   "id": "92542939-e8e8-45ac-a233-3d4d527f849b",
   "metadata": {},
   "source": [
    "数据准备\n",
    "- 下载数据集\n",
    "- 设计 Tokenizer 函数处理样本（map、shuffle、flatten）\n",
    "- 自定义批量数据处理类 DataCollatorForChatGLM"
   ]
  },
  {
   "cell_type": "markdown",
   "id": "557dd4a7-d7e3-4ba7-81f8-584c8171e661",
   "metadata": {},
   "source": [
    "训练模型\n",
    "- 加载 ChatGLM3-6B 量化模型\n",
    "- PEFT 量化模型预处理（prepare_model_for_kbit_training）\n",
    "- QLoRA 适配器配置（TRANSFORMERS_MODELS_TO_LORA_TARGET_MODULES_MAPPING）\n",
    "- 微调训练超参数配置（TrainingArguments）\n",
    "- 开启训练（trainer.train)\n",
    "- 保存QLoRA模型（trainer.model.save_pretrained)"
   ]
  },
  {
   "cell_type": "markdown",
   "id": "01caf521-688f-4a4e-9662-15c5b661232a",
   "metadata": {},
   "source": [
    "模型推理\n",
    "- 加载 ChatGLM3-6B 基础模型\n",
    "- 加载 ChatGLM3-6B QLoRA 模型（PEFT Adapter）\n",
    "- 微调前后对比"
   ]
  },
  {
   "cell_type": "code",
   "execution_count": 1,
   "id": "d8420d5c-a6cf-4539-9ea4-056488ea7987",
   "metadata": {},
   "outputs": [],
   "source": [
    "# 定义全局变量和参数\n",
    "model_name_or_path = 'THUDM/chatglm3-6b'  # 模型ID或本地路径\n",
    "train_data_path = 'HasturOfficial/adgen'    # 训练数据路径\n",
    "eval_data_path = None                     # 验证数据路径，如果没有则设置为None\n",
    "seed = 8                                 # 随机种子\n",
    "max_input_length = 512                    # 输入的最大长度\n",
    "max_output_length = 1536                  # 输出的最大长度\n",
    "lora_rank = 4                             # LoRA秩\n",
    "lora_alpha = 32                           # LoRA alpha值\n",
    "lora_dropout = 0.05                       # LoRA Dropout率\n",
    "resume_from_checkpoint = None             # 如果从checkpoint恢复训练，指定路径\n",
    "prompt_text = ''                          # 所有数据前的指令文本\n",
    "compute_dtype = 'fp32'                    # 计算数据类型（fp32, fp16, bf16）"
   ]
  },
  {
   "cell_type": "markdown",
   "id": "163779b4-04fe-40e1-82ec-619a50011841",
   "metadata": {},
   "source": [
    "## 数据准备"
   ]
  },
  {
   "cell_type": "markdown",
   "id": "adbcada4-cc63-4d4a-a0ae-54c42c6b3cc6",
   "metadata": {},
   "source": [
    "### 下载数据集"
   ]
  },
  {
   "cell_type": "markdown",
   "id": "a40ac656-fb1c-40a3-8923-800bd4c1842a",
   "metadata": {},
   "source": [
    "从 Hugging Face 加载 adgen 数据集，并tokenize，shuffle"
   ]
  },
  {
   "cell_type": "code",
   "execution_count": 2,
   "id": "c085bb9d-ad8d-4e0b-b169-b74e3a6d1f04",
   "metadata": {},
   "outputs": [],
   "source": [
    "from datasets import load_dataset\n",
    "\n",
    "dataset = load_dataset(train_data_path)"
   ]
  },
  {
   "cell_type": "code",
   "execution_count": 3,
   "id": "95a88b2b-0f08-4189-80c9-ac8ec07d52f0",
   "metadata": {},
   "outputs": [
    {
     "data": {
      "text/plain": [
       "DatasetDict({\n",
       "    train: Dataset({\n",
       "        features: ['content', 'summary'],\n",
       "        num_rows: 114599\n",
       "    })\n",
       "    validation: Dataset({\n",
       "        features: ['content', 'summary'],\n",
       "        num_rows: 1070\n",
       "    })\n",
       "})"
      ]
     },
     "execution_count": 3,
     "metadata": {},
     "output_type": "execute_result"
    }
   ],
   "source": [
    "dataset"
   ]
  },
  {
   "cell_type": "code",
   "execution_count": 4,
   "id": "363458c3-9e6e-46c1-b113-e7022d19cd2f",
   "metadata": {},
   "outputs": [],
   "source": [
    "from datasets import ClassLabel, Sequence\n",
    "import random\n",
    "import pandas as pd\n",
    "from IPython.display import display, HTML\n",
    "\n",
    "def show_random_elements(dataset, num_examples=10):\n",
    "    assert num_examples <= len(dataset), \"Can't pick more elements than there are in the dataset.\"\n",
    "    picks = []\n",
    "    for _ in range(num_examples):\n",
    "        pick = random.randint(0, len(dataset)-1)\n",
    "        while pick in picks:\n",
    "            pick = random.randint(0, len(dataset)-1)\n",
    "        picks.append(pick)\n",
    "    \n",
    "    df = pd.DataFrame(dataset[picks])\n",
    "    for column, typ in dataset.features.items():\n",
    "        if isinstance(typ, ClassLabel):\n",
    "            df[column] = df[column].transform(lambda i: typ.names[i])\n",
    "        elif isinstance(typ, Sequence) and isinstance(typ.feature, ClassLabel):\n",
    "            df[column] = df[column].transform(lambda x: [typ.feature.names[i] for i in x])\n",
    "    display(HTML(df.to_html()))"
   ]
  },
  {
   "cell_type": "code",
   "execution_count": 5,
   "id": "31c9e405-42f2-4dee-be11-59288244ed2f",
   "metadata": {},
   "outputs": [
    {
     "data": {
      "text/html": [
       "<table border=\"1\" class=\"dataframe\">\n",
       "  <thead>\n",
       "    <tr style=\"text-align: right;\">\n",
       "      <th></th>\n",
       "      <th>content</th>\n",
       "      <th>summary</th>\n",
       "    </tr>\n",
       "  </thead>\n",
       "  <tbody>\n",
       "    <tr>\n",
       "      <th>0</th>\n",
       "      <td>类型#裤*材质#牛仔布*图案#线条*裤款式#破洞</td>\n",
       "      <td>牛仔裤的主体还是很简洁常规的，修饰出匀称纤细的双腿线条，恰好的裤长不拖沓不累赘。让裤脚的破洞和卷起裤脚有充分的展示空间，无论配什么鞋子都可以行走如风！</td>\n",
       "    </tr>\n",
       "    <tr>\n",
       "      <th>1</th>\n",
       "      <td>类型#上衣*版型#显瘦*材质#棉*颜色#深色*风格#简约*图案#线条*衣样式#衬衫*衣领型#翻领</td>\n",
       "      <td>衬衫翻领领口设计，凸显脖颈和脸部线条美感。选用优质纯棉面料，触感柔软，上身舒适。深色衬衫搭配简单，袖口收紧设计，修身版型设计，凸显完美身材，简约的设计风格，穿着时尚感十足。下摆独特廓形设计，时尚感十足。</td>\n",
       "    </tr>\n",
       "    <tr>\n",
       "      <th>2</th>\n",
       "      <td>类型#裤*图案#印花*裤口#小脚</td>\n",
       "      <td>这款印花垂性裤子，整体以花朵为灵感，&lt;UNK&gt;女孩子的纯真美好。腰部采用弹力束腰，方便女童穿脱，更能凸显腰身。裤口的收口增加了垂坠感，更显飘逸。腰部的叠层装饰以及裤口的花边，甜美动人，凸显女孩的性格魅力。花朵图案满版印花，似漫山遍野的鲜花，美丽而浪漫，再一次呼应花朵的设计灵感。</td>\n",
       "    </tr>\n",
       "  </tbody>\n",
       "</table>"
      ],
      "text/plain": [
       "<IPython.core.display.HTML object>"
      ]
     },
     "metadata": {},
     "output_type": "display_data"
    }
   ],
   "source": [
    "show_random_elements(dataset[\"train\"], num_examples=3)"
   ]
  },
  {
   "cell_type": "markdown",
   "id": "2481fb2e-52ee-4d53-bda8-99c579c47719",
   "metadata": {},
   "source": [
    "## 使用 ChatGLM3-6b Tokenizer 处理数据"
   ]
  },
  {
   "cell_type": "markdown",
   "id": "2a7f3f3a-e4b5-4718-bce3-6898a1846ba5",
   "metadata": {},
   "source": [
    "关于 ignore_label_id 的设置："
   ]
  },
  {
   "cell_type": "markdown",
   "id": "ebc3a549-2c19-4d82-b95b-c09c92b63281",
   "metadata": {},
   "source": [
    "在许多自然语言处理和机器学习框架中，ignore_label_id 被设置为 -100 是一种常见的约定。这个特殊的值用于标记在计算损失函数时应该被忽略的目标标签。让我们详细了解一下这个选择的原因："
   ]
  },
  {
   "cell_type": "markdown",
   "id": "db8f9f00-218a-4ec1-85d8-e5b1aff3c41d",
   "metadata": {},
   "source": [
    "1.损失函数忽略特定值：训练语言模型时，损失函数（例如交叉熵损失）通常只计算对于模型预测重要或关键的标签的损失。在某些情况下，你可能不希望某些标签对损失计算产生影响。例如，在序列到序列的模型中，输入部分的标签通常被设置为一个忽略值，因为只有输出部分的标签对于训练是重要的。"
   ]
  },
  {
   "cell_type": "markdown",
   "id": "dd72ef96-6d28-4e6d-b7fe-c594e0e84629",
   "metadata": {},
   "source": [
    "2.为何选择-100：这个具体的值是基于实现细节选择的。在 PyTorch 的交叉熵损失函数中，可以指定一个 ignore_index 参数。当损失函数看到这个索引值时，它就会忽略对应的输出标签。使用 -100 作为默认值是因为它是一个不太可能出现在标签中的数字（特别是在处理分类问题时，标签通常是从0开始的正整数）。"
   ]
  },
  {
   "cell_type": "markdown",
   "id": "19bc4a56-991b-4ca6-b81a-a2af0ad30314",
   "metadata": {},
   "source": [
    "3.标准化和通用性：由于这种做法在多个库和框架中被采纳，-100 作为忽略标签的默认值已经变得相对标准化，这有助于维护代码的通用性和可读性。"
   ]
  },
  {
   "cell_type": "markdown",
   "id": "bc743909-7554-43dc-81c0-acfd222e40a2",
   "metadata": {},
   "source": [
    "总的来说，将 ignore_label_id 设置为 -100 是一种在计算损失时排除特定标签影响的便捷方式。这在处理特定类型的自然语言处理任务时非常有用，尤其是在涉及序列生成或修改的任务中。"
   ]
  },
  {
   "cell_type": "markdown",
   "id": "f144afc5-5011-4eab-be43-d4fcb771a33a",
   "metadata": {},
   "source": [
    "### 关于 ChatGLM3 的填充处理说明"
   ]
  },
  {
   "cell_type": "markdown",
   "id": "ca428474-6c3e-49f2-8473-b8240b80ac89",
   "metadata": {},
   "source": [
    "- input_id（query）里的填充补全了输入长度，目的是不改变原始文本的含义。\n",
    "- label（answer）里的填充会用来跟模型基于 query 生成的结果计算 Loss，为了不影响损失值计算，也需要设置。咱们计算损失时，是针对 answer 部分的 Embedding Vector，因此 label 这样填充，前面的序列就自动忽略掉了，只比较生成内容的 loss。因此，需要将answer前面的部分做忽略填充。"
   ]
  },
  {
   "cell_type": "code",
   "execution_count": 6,
   "id": "f3c0d97a-96e5-493d-9bd9-dff4a9d76f93",
   "metadata": {},
   "outputs": [
    {
     "name": "stderr",
     "output_type": "stream",
     "text": [
      "/root/miniconda3/envs/transformers/lib/python3.11/site-packages/transformers/utils/generic.py:441: UserWarning: torch.utils._pytree._register_pytree_node is deprecated. Please use torch.utils._pytree.register_pytree_node instead.\n",
      "  _torch_pytree._register_pytree_node(\n"
     ]
    }
   ],
   "source": [
    "from transformers import AutoTokenizer\n",
    "\n",
    "# revision='b098244' 版本对应的 ChatGLM3-6B 设置 use_reentrant=False\n",
    "# 最新版本 use_reentrant 被设置为 True，会增加不必要的显存开销\n",
    "tokenizer = AutoTokenizer.from_pretrained(model_name_or_path,\n",
    "                                          trust_remote_code=True,\n",
    "                                          revision='b098244')"
   ]
  },
  {
   "cell_type": "code",
   "execution_count": 7,
   "id": "5e31c22d-c148-4d9a-8a56-3de01957e7a6",
   "metadata": {},
   "outputs": [],
   "source": [
    "# tokenize_func 函数\n",
    "def tokenize_func(example, tokenizer, ignore_label_id=-100):\n",
    "    \"\"\"\n",
    "    对单个数据样本进行tokenize处理。\n",
    "\n",
    "    参数:\n",
    "    example (dict): 包含'content'和'summary'键的字典，代表训练数据的一个样本。\n",
    "    tokenizer (transformers.PreTrainedTokenizer): 用于tokenize文本的tokenizer。\n",
    "    ignore_label_id (int, optional): 在label中用于填充的忽略ID，默认为-100。\n",
    "\n",
    "    返回:\n",
    "    dict: 包含'tokenized_input_ids'和'labels'的字典，用于模型训练。\n",
    "    \"\"\"\n",
    "\n",
    "    # 构建问题文本\n",
    "    question = prompt_text + example['content']\n",
    "    if example.get('input', None) and example['input'].strip():\n",
    "        question += f'\\n{example[\"input\"]}'\n",
    "\n",
    "    # 构建答案文本\n",
    "    answer = example['summary']\n",
    "\n",
    "    # 对问题和答案文本进行tokenize处理\n",
    "    q_ids = tokenizer.encode(text=question, add_special_tokens=False)\n",
    "    a_ids = tokenizer.encode(text=answer, add_special_tokens=False)\n",
    "\n",
    "    # 如果tokenize后的长度超过最大长度限制，则进行截断\n",
    "    if len(q_ids) > max_input_length - 2:  # 保留空间给gmask和bos标记\n",
    "        q_ids = q_ids[:max_input_length - 2]\n",
    "    if len(a_ids) > max_output_length - 1:  # 保留空间给eos标记\n",
    "        a_ids = a_ids[:max_output_length - 1]\n",
    "\n",
    "    # 构建模型的输入格式\n",
    "    input_ids = tokenizer.build_inputs_with_special_tokens(q_ids, a_ids)\n",
    "    question_length = len(q_ids) + 2  # 加上gmask和bos标记\n",
    "\n",
    "    # 构建标签，对于问题部分的输入使用ignore_label_id进行填充\n",
    "    labels = [ignore_label_id] * question_length + input_ids[question_length:]\n",
    "\n",
    "    return {'input_ids': input_ids, 'labels': labels}"
   ]
  },
  {
   "cell_type": "code",
   "execution_count": 8,
   "id": "76f65181-eb65-4134-bedc-240d92a91c0e",
   "metadata": {},
   "outputs": [],
   "source": [
    "column_names = dataset['train'].column_names\n",
    "tokenized_dataset = dataset['train'].map(\n",
    "    lambda example: tokenize_func(example, tokenizer),\n",
    "    batched=False, \n",
    "    remove_columns=column_names\n",
    ")"
   ]
  },
  {
   "cell_type": "code",
   "execution_count": 9,
   "id": "10ec1011-bb04-47e4-b2cb-557780dadba4",
   "metadata": {},
   "outputs": [
    {
     "data": {
      "text/html": [
       "<table border=\"1\" class=\"dataframe\">\n",
       "  <thead>\n",
       "    <tr style=\"text-align: right;\">\n",
       "      <th></th>\n",
       "      <th>input_ids</th>\n",
       "      <th>labels</th>\n",
       "    </tr>\n",
       "  </thead>\n",
       "  <tbody>\n",
       "    <tr>\n",
       "      <th>0</th>\n",
       "      <td>[64790, 64792, 30910, 33467, 31010, 49534, 30998, 33692, 31010, 45329, 30998, 55500, 46025, 31010, 42373, 30910, 33730, 54603, 42373, 32195, 48216, 56130, 44149, 31123, 32617, 31002, 5234, 30984, 30994, 57750, 54530, 38231, 38317, 31123, 55273, 54964, 32613, 35212, 54707, 54530, 55402, 55708, 32799, 31155, 34408, 35405, 45175, 54689, 35752, 54539, 34667, 33139, 33537, 31123, 32583, 32140, 42408, 30989, 54603, 37032, 30991, 32576, 31155, 54772, 42752, 54542, 32985, 31759, 31701, 31636, 31123, 32177, 32570, 54534, 35981, 39003, 54554, 35405, 31155, 2]</td>\n",
       "      <td>[-100, -100, -100, -100, -100, -100, -100, -100, -100, -100, -100, -100, -100, -100, -100, 30910, 33730, 54603, 42373, 32195, 48216, 56130, 44149, 31123, 32617, 31002, 5234, 30984, 30994, 57750, 54530, 38231, 38317, 31123, 55273, 54964, 32613, 35212, 54707, 54530, 55402, 55708, 32799, 31155, 34408, 35405, 45175, 54689, 35752, 54539, 34667, 33139, 33537, 31123, 32583, 32140, 42408, 30989, 54603, 37032, 30991, 32576, 31155, 54772, 42752, 54542, 32985, 31759, 31701, 31636, 31123, 32177, 32570, 54534, 35981, 39003, 54554, 35405, 31155, 2]</td>\n",
       "    </tr>\n",
       "  </tbody>\n",
       "</table>"
      ],
      "text/plain": [
       "<IPython.core.display.HTML object>"
      ]
     },
     "metadata": {},
     "output_type": "display_data"
    }
   ],
   "source": [
    "show_random_elements(tokenized_dataset, num_examples=1)"
   ]
  },
  {
   "cell_type": "markdown",
   "id": "c30d4c04-e1c8-4a37-b96b-02e54fd92341",
   "metadata": {},
   "source": [
    "### 数据集处理：shuffle & flatten"
   ]
  },
  {
   "cell_type": "markdown",
   "id": "bb430696-95a7-433e-98cf-17a1ab2048cf",
   "metadata": {},
   "source": [
    "洗牌(shuffle)会将数据集的索引列表打乱，以创建一个索引映射。"
   ]
  },
  {
   "cell_type": "markdown",
   "id": "18e9eff7-7296-4c94-a2d1-7b96283cbe3e",
   "metadata": {},
   "source": [
    "然而，一旦您的数据集具有索引映射，速度可能会变慢10倍。这是因为需要额外的步骤来使用索引映射获取要读取的行索引，并且最重要的是，您不再连续地读取数据块。"
   ]
  },
  {
   "cell_type": "markdown",
   "id": "fa2bc147-bde4-4295-b151-476c7134fb33",
   "metadata": {},
   "source": [
    "要恢复速度，需要再次使用 Dataset.flatten_indices()将整个数据集重新写入磁盘上，从而删除索引映射。"
   ]
  },
  {
   "cell_type": "markdown",
   "id": "44cfb640-2adc-4ba5-8732-e9bd0a67c8ca",
   "metadata": {},
   "source": [
    "ref: https://huggingface.co/docs/datasets/v2.15.0/en/package_reference/main_classes#datasets.Dataset.flatten_indices"
   ]
  },
  {
   "cell_type": "code",
   "execution_count": 10,
   "id": "9605d24e-9eb9-478d-934b-615c117a5d52",
   "metadata": {},
   "outputs": [],
   "source": [
    "tokenized_dataset = tokenized_dataset.shuffle(seed=seed)"
   ]
  },
  {
   "cell_type": "code",
   "execution_count": 11,
   "id": "6270329b-b156-4fb0-8011-5042e12a1e3a",
   "metadata": {},
   "outputs": [],
   "source": [
    "tokenized_dataset = tokenized_dataset.flatten_indices()"
   ]
  },
  {
   "cell_type": "markdown",
   "id": "f774d9c5-a640-41e9-bfcb-bc6cdef33edb",
   "metadata": {},
   "source": [
    "### 定义 DataCollatorForChatGLM 类 批量处理数据"
   ]
  },
  {
   "cell_type": "code",
   "execution_count": 12,
   "id": "c614b3d8-e617-45c8-a05f-b14c79b3c13b",
   "metadata": {},
   "outputs": [],
   "source": [
    "import torch\n",
    "from typing import List, Dict, Optional\n",
    "\n",
    "# DataCollatorForChatGLM 类\n",
    "class DataCollatorForChatGLM:\n",
    "    \"\"\"\n",
    "    用于处理批量数据的DataCollator，尤其是在使用 ChatGLM 模型时。\n",
    "\n",
    "    该类负责将多个数据样本（tokenized input）合并为一个批量，并在必要时进行填充(padding)。\n",
    "\n",
    "    属性:\n",
    "    pad_token_id (int): 用于填充(padding)的token ID。\n",
    "    max_length (int): 单个批量数据的最大长度限制。\n",
    "    ignore_label_id (int): 在标签中用于填充的ID。\n",
    "    \"\"\"\n",
    "\n",
    "    def __init__(self, pad_token_id: int, max_length: int = 2048, ignore_label_id: int = -100):\n",
    "        \"\"\"\n",
    "        初始化DataCollator。\n",
    "\n",
    "        参数:\n",
    "        pad_token_id (int): 用于填充(padding)的token ID。\n",
    "        max_length (int): 单个批量数据的最大长度限制。\n",
    "        ignore_label_id (int): 在标签中用于填充的ID，默认为-100。\n",
    "        \"\"\"\n",
    "        self.pad_token_id = pad_token_id\n",
    "        self.ignore_label_id = ignore_label_id\n",
    "        self.max_length = max_length\n",
    "\n",
    "    def __call__(self, batch_data: List[Dict[str, List]]) -> Dict[str, torch.Tensor]:\n",
    "        \"\"\"\n",
    "        处理批量数据。\n",
    "\n",
    "        参数:\n",
    "        batch_data (List[Dict[str, List]]): 包含多个样本的字典列表。\n",
    "\n",
    "        返回:\n",
    "        Dict[str, torch.Tensor]: 包含处理后的批量数据的字典。\n",
    "        \"\"\"\n",
    "        # 计算批量中每个样本的长度\n",
    "        len_list = [len(d['input_ids']) for d in batch_data]\n",
    "        batch_max_len = max(len_list)  # 找到最长的样本长度\n",
    "\n",
    "        input_ids, labels = [], []\n",
    "        for len_of_d, d in sorted(zip(len_list, batch_data), key=lambda x: -x[0]):\n",
    "            pad_len = batch_max_len - len_of_d  # 计算需要填充的长度\n",
    "            # 添加填充，并确保数据长度不超过最大长度限制\n",
    "            ids = d['input_ids'] + [self.pad_token_id] * pad_len\n",
    "            label = d['labels'] + [self.ignore_label_id] * pad_len\n",
    "            if batch_max_len > self.max_length:\n",
    "                ids = ids[:self.max_length]\n",
    "                label = label[:self.max_length]\n",
    "            input_ids.append(torch.LongTensor(ids))\n",
    "            labels.append(torch.LongTensor(label))\n",
    "\n",
    "        # 将处理后的数据堆叠成一个tensor\n",
    "        input_ids = torch.stack(input_ids)\n",
    "        labels = torch.stack(labels)\n",
    "\n",
    "        return {'input_ids': input_ids, 'labels': labels}"
   ]
  },
  {
   "cell_type": "code",
   "execution_count": 13,
   "id": "450bd1e2-3317-481a-a192-343280953b44",
   "metadata": {},
   "outputs": [],
   "source": [
    "# 准备数据整理器\n",
    "data_collator = DataCollatorForChatGLM(pad_token_id=tokenizer.pad_token_id)"
   ]
  },
  {
   "cell_type": "markdown",
   "id": "98a30fdd-5a6b-4638-974f-d84ab36db0ef",
   "metadata": {},
   "source": [
    "### 训练模型"
   ]
  },
  {
   "cell_type": "markdown",
   "id": "9a84bab5-5352-412f-b706-4ae8e91e1421",
   "metadata": {},
   "source": [
    "### 加载 ChatGLM3-6B 量化模型"
   ]
  },
  {
   "cell_type": "markdown",
   "id": "8450fcd0-dc56-402f-aeb1-09bfc69270ca",
   "metadata": {},
   "source": [
    "使用 nf4 量化数据类型加载模型，开启双量化配置，以bf16混合精度训练，预估显存占用接近4GB"
   ]
  },
  {
   "cell_type": "code",
   "execution_count": 14,
   "id": "e8b36be2-71b2-43b2-b64f-6d71d5349261",
   "metadata": {},
   "outputs": [],
   "source": [
    "from transformers import AutoModel, BitsAndBytesConfig\n",
    "\n",
    "_compute_dtype_map = {\n",
    "    'fp32': torch.float32,\n",
    "    'fp16': torch.float16,\n",
    "    'bf16': torch.bfloat16\n",
    "}\n",
    "\n",
    "# QLoRA 量化配置\n",
    "q_config = BitsAndBytesConfig(load_in_4bit=True,\n",
    "                              bnb_4bit_quant_type='nf4',\n",
    "                              bnb_4bit_use_double_quant=True,\n",
    "                              bnb_4bit_compute_dtype=_compute_dtype_map['bf16'])"
   ]
  },
  {
   "cell_type": "markdown",
   "id": "443fd1d4-5dc7-446d-a0cb-e3e4ec24b2f1",
   "metadata": {},
   "source": [
    "### 加载模型"
   ]
  },
  {
   "cell_type": "code",
   "execution_count": 15,
   "id": "b3786959-4d5f-4298-a2c5-dd8d3df86a0b",
   "metadata": {},
   "outputs": [
    {
     "name": "stderr",
     "output_type": "stream",
     "text": [
      "/root/miniconda3/envs/transformers/lib/python3.11/site-packages/transformers/utils/generic.py:309: UserWarning: torch.utils._pytree._register_pytree_node is deprecated. Please use torch.utils._pytree.register_pytree_node instead.\n",
      "  _torch_pytree._register_pytree_node(\n",
      "/root/miniconda3/envs/transformers/lib/python3.11/site-packages/transformers/utils/generic.py:309: UserWarning: torch.utils._pytree._register_pytree_node is deprecated. Please use torch.utils._pytree.register_pytree_node instead.\n",
      "  _torch_pytree._register_pytree_node(\n"
     ]
    },
    {
     "data": {
      "application/vnd.jupyter.widget-view+json": {
       "model_id": "c40b0614bfac4c1ba2383812ff678142",
       "version_major": 2,
       "version_minor": 0
      },
      "text/plain": [
       "Loading checkpoint shards:   0%|          | 0/7 [00:00<?, ?it/s]"
      ]
     },
     "metadata": {},
     "output_type": "display_data"
    }
   ],
   "source": [
    "# revision='b098244' 版本对应的 ChatGLM3-6B 设置 use_reentrant=False\n",
    "# 最新版本 use_reentrant 被设置为 True，会增加不必要的显存开销\n",
    "model = AutoModel.from_pretrained(model_name_or_path,\n",
    "                                  quantization_config=q_config,\n",
    "                                  device_map='auto',\n",
    "                                  trust_remote_code=True,\n",
    "                                  revision='b098244')"
   ]
  },
  {
   "cell_type": "code",
   "execution_count": 16,
   "id": "7b95ed91-9685-4faf-a5eb-1b1cd22248b1",
   "metadata": {},
   "outputs": [
    {
     "name": "stdout",
     "output_type": "stream",
     "text": [
      "3739.69MiB\n"
     ]
    }
   ],
   "source": [
    "# 获取当前模型占用的 GPU显存（差值为预留给 PyTorch 的显存）\n",
    "memory_footprint_bytes = model.get_memory_footprint()\n",
    "memory_footprint_mib = memory_footprint_bytes / (1024 ** 2)  # 转换为 MiB\n",
    "\n",
    "print(f\"{memory_footprint_mib:.2f}MiB\")"
   ]
  },
  {
   "cell_type": "markdown",
   "id": "e7e5bfe4-2c7b-4753-96bd-bf138d8c6cdf",
   "metadata": {},
   "source": [
    "### 预处理量化模型\n",
    "预处理量化后的模型，使其可以支持低精度微调训练"
   ]
  },
  {
   "cell_type": "markdown",
   "id": "d9bc0275-2cd3-44a2-b64b-5d0588bbe0d1",
   "metadata": {},
   "source": [
    "ref: https://huggingface.co/docs/peft/main/en/developer_guides/quantization#quantize-a-model"
   ]
  },
  {
   "cell_type": "code",
   "execution_count": 17,
   "id": "b58e6c9f-93d7-4d2e-9b59-33f72becf1b3",
   "metadata": {},
   "outputs": [
    {
     "name": "stderr",
     "output_type": "stream",
     "text": [
      "You are using an old version of the checkpointing format that is deprecated (We will also silently ignore `gradient_checkpointing_kwargs` in case you passed it).Please update to the new format on your modeling file. To use the new format, you need to completely remove the definition of the method `_set_gradient_checkpointing` in your model.\n"
     ]
    }
   ],
   "source": [
    "from peft import TaskType, LoraConfig, get_peft_model, prepare_model_for_kbit_training\n",
    "\n",
    "kbit_model = prepare_model_for_kbit_training(model)"
   ]
  },
  {
   "cell_type": "markdown",
   "id": "d37a3044-0999-46a1-b063-3ee742532376",
   "metadata": {},
   "source": [
    "## 自定义模型新增 Adapter"
   ]
  },
  {
   "cell_type": "markdown",
   "id": "826df00b-f268-4cf1-80fa-9c34c846e01b",
   "metadata": {},
   "source": [
    "当新的热门 transformer 网络架构（新模型）发布时，Huggingface 社区会尽力快速将它们添加到PEFT中。"
   ]
  },
  {
   "cell_type": "markdown",
   "id": "1cfa3b42-aac1-4769-9099-e1708dcf4577",
   "metadata": {},
   "source": [
    "如果是 Hugging Face Transformers 库还未内置支持的模型，可以使用自定义模型的方式进行配置。"
   ]
  },
  {
   "cell_type": "markdown",
   "id": "9a73ebb4-7189-428e-9ee7-1d9cb2fda503",
   "metadata": {},
   "source": [
    "具体来说，在初始化相应的微调配置类（例如LoraConfig）时，我们需要显式指定在哪些层新增适配器（Adapter），并将其设置正确。"
   ]
  },
  {
   "cell_type": "markdown",
   "id": "f3342577-977f-47e6-a8c9-32dda0e13c19",
   "metadata": {},
   "source": [
    "ref: https://huggingface.co/docs/peft/developer_guides/custom_models"
   ]
  },
  {
   "cell_type": "markdown",
   "id": "1e29aa5c-35e9-4810-be43-d28ed2ae256c",
   "metadata": {},
   "source": [
    "### PEFT 适配模块设置"
   ]
  },
  {
   "cell_type": "markdown",
   "id": "0c318561-5e98-46af-904d-7419afef34d7",
   "metadata": {},
   "source": [
    "在PEFT库的 constants.py 文件中定义了不同的 PEFT 方法，在各类大模型上的微调适配模块。"
   ]
  },
  {
   "cell_type": "markdown",
   "id": "5a041906-7a60-4358-aaaf-ba1e483991c2",
   "metadata": {},
   "source": [
    "通常，名称相同的模型架构也类似，应用微调方法时的适配器设置也几乎一致。"
   ]
  },
  {
   "cell_type": "markdown",
   "id": "93fa16b1-b9df-4855-9a88-1422cdc0a3bd",
   "metadata": {},
   "source": [
    "例如，如果新模型架构是mistral模型的变体，并且您想应用 LoRA 微调。在 TRANSFORMERS_MODELS_TO_LORA_TARGET_MODULES_MAPPING中mistral包含[\"q_proj\", \"v_proj\"]。"
   ]
  },
  {
   "cell_type": "markdown",
   "id": "b54014f6-5330-4029-a77b-b27dc204d685",
   "metadata": {},
   "source": [
    "这表示说，对于mistral模型，LoRA 的 target_modules 通常是 [\"q_proj\", \"v_proj\"]。"
   ]
  },
  {
   "cell_type": "code",
   "execution_count": 18,
   "id": "5c481be7-9b0f-4329-8ed8-b5169eb0093b",
   "metadata": {},
   "outputs": [],
   "source": [
    "from peft.utils import TRANSFORMERS_MODELS_TO_LORA_TARGET_MODULES_MAPPING\n",
    "\n",
    "target_modules = TRANSFORMERS_MODELS_TO_LORA_TARGET_MODULES_MAPPING['chatglm']"
   ]
  },
  {
   "cell_type": "code",
   "execution_count": 19,
   "id": "1befb6a2-5581-4a77-88f6-798b83fbe0ba",
   "metadata": {},
   "outputs": [
    {
     "data": {
      "text/plain": [
       "['query_key_value']"
      ]
     },
     "execution_count": 19,
     "metadata": {},
     "output_type": "execute_result"
    }
   ],
   "source": [
    "target_modules"
   ]
  },
  {
   "cell_type": "markdown",
   "id": "3a09afcd-089a-4ac8-952f-0a5db21fdc61",
   "metadata": {},
   "source": [
    "### LoRA 适配器配置"
   ]
  },
  {
   "cell_type": "code",
   "execution_count": 20,
   "id": "0cf7bed0-bac7-44a5-9969-2ddd86cb94b2",
   "metadata": {},
   "outputs": [],
   "source": [
    "lora_config = LoraConfig(\n",
    "    target_modules=target_modules,\n",
    "    r=lora_rank,\n",
    "    lora_alpha=lora_alpha,\n",
    "    lora_dropout=lora_dropout,\n",
    "    bias='none',\n",
    "    inference_mode=False,\n",
    "    task_type=TaskType.CAUSAL_LM,\n",
    ")"
   ]
  },
  {
   "cell_type": "code",
   "execution_count": 21,
   "id": "bb048ac4-d988-46a8-b7da-6abd8301d7ec",
   "metadata": {},
   "outputs": [],
   "source": [
    "qlora_model = get_peft_model(kbit_model, lora_config)"
   ]
  },
  {
   "cell_type": "code",
   "execution_count": 22,
   "id": "9d0c2b65-c627-4175-8a64-df51ddd8ba86",
   "metadata": {},
   "outputs": [
    {
     "name": "stdout",
     "output_type": "stream",
     "text": [
      "trainable params: 974,848 || all params: 6,244,558,848 || trainable%: 0.01561115883009451\n"
     ]
    }
   ],
   "source": [
    "qlora_model.print_trainable_parameters()"
   ]
  },
  {
   "cell_type": "markdown",
   "id": "40886e82-459b-493b-bf30-2ff144b240d9",
   "metadata": {},
   "source": [
    "## 训练超参数配置"
   ]
  },
  {
   "cell_type": "markdown",
   "id": "419e2c77-695f-428e-87f2-c05fe3c8879d",
   "metadata": {},
   "source": [
    "- 1个epoch表示对训练集的所有样本进行一次完整的训练。\n",
    "- num_train_epochs 表示要完整进行多少个 epochs 的训练。"
   ]
  },
  {
   "cell_type": "markdown",
   "id": "1c4dfbf7-6afb-4a52-b63c-db4d0f9b4f68",
   "metadata": {},
   "source": [
    "#### 关于使用 num_train_epochs 时，训练总步数 steps 的计算方法"
   ]
  },
  {
   "cell_type": "markdown",
   "id": "f04db394-bff0-41cc-abd7-78bf0c0e8b3c",
   "metadata": {},
   "source": [
    "- 训练总步数： total_steps = steps/epoch * num_train_epochs\n",
    "- 每个epoch的训练步数：steps/epoch = num_train_examples / (batch_size * gradient_accumulation_steps)"
   ]
  },
  {
   "cell_type": "markdown",
   "id": "f7d2fd9f-7b11-4432-8c14-adbaaddc0c1a",
   "metadata": {},
   "source": [
    "以 adgen 数据集为例计算"
   ]
  },
  {
   "cell_type": "raw",
   "id": "905834c6-46c6-493e-ac37-7d9b46786ff5",
   "metadata": {},
   "source": [
    "DatasetDict({\n",
    "    train: Dataset({\n",
    "        features: ['content', 'summary'],\n",
    "        num_rows: 114599\n",
    "    })\n",
    "    validation: Dataset({\n",
    "        features: ['content', 'summary'],\n",
    "        num_rows: 1070\n",
    "    })\n",
    "})"
   ]
  },
  {
   "cell_type": "markdown",
   "id": "ce4e2a73-d18e-412c-be19-0762bf8cb8a9",
   "metadata": {},
   "source": [
    "代入超参数和配置进行计算："
   ]
  },
  {
   "cell_type": "raw",
   "id": "e8953e48-9375-4058-865a-44c9944f2af3",
   "metadata": {},
   "source": [
    "num_train_epochs = 1\n",
    "num_train_examples = 114599\n",
    "batch_size = 16\n",
    "gradient_accumulation_steps = 4"
   ]
  },
  {
   "cell_type": "raw",
   "id": "840568cc-8019-4b9a-b50d-0445438eaa0c",
   "metadata": {},
   "source": [
    "steps = num_train_epochs * num_train_examples / (batch_size * gradient_accumulation_steps)\n",
    "      = 1 * 114599 / (16 * 4)\n",
    "      = 1790"
   ]
  },
  {
   "cell_type": "code",
   "execution_count": 23,
   "id": "e38bcc3d-cfb9-48f0-b406-63eabce4255a",
   "metadata": {},
   "outputs": [
    {
     "name": "stderr",
     "output_type": "stream",
     "text": [
      "2024-02-28 09:48:23.895475: I tensorflow/core/util/port.cc:113] oneDNN custom operations are on. You may see slightly different numerical results due to floating-point round-off errors from different computation orders. To turn them off, set the environment variable `TF_ENABLE_ONEDNN_OPTS=0`.\n",
      "2024-02-28 09:48:23.940236: E external/local_xla/xla/stream_executor/cuda/cuda_dnn.cc:9261] Unable to register cuDNN factory: Attempting to register factory for plugin cuDNN when one has already been registered\n",
      "2024-02-28 09:48:23.940270: E external/local_xla/xla/stream_executor/cuda/cuda_fft.cc:607] Unable to register cuFFT factory: Attempting to register factory for plugin cuFFT when one has already been registered\n",
      "2024-02-28 09:48:23.941384: E external/local_xla/xla/stream_executor/cuda/cuda_blas.cc:1515] Unable to register cuBLAS factory: Attempting to register factory for plugin cuBLAS when one has already been registered\n",
      "2024-02-28 09:48:23.948369: I tensorflow/core/platform/cpu_feature_guard.cc:182] This TensorFlow binary is optimized to use available CPU instructions in performance-critical operations.\n",
      "To enable the following instructions: AVX2 AVX512F AVX512_VNNI FMA, in other operations, rebuild TensorFlow with the appropriate compiler flags.\n",
      "2024-02-28 09:48:24.791331: W tensorflow/compiler/tf2tensorrt/utils/py_utils.cc:38] TF-TRT Warning: Could not find TensorRT\n"
     ]
    }
   ],
   "source": [
    "from transformers import TrainingArguments, Trainer\n",
    "\n",
    "training_args = TrainingArguments(\n",
    "    output_dir=f\"models/{model_name_or_path}\",          # 输出目录\n",
    "    per_device_train_batch_size=16,                     # 每个设备的训练批量大小\n",
    "    gradient_accumulation_steps=4,                     # 梯度累积步数\n",
    "    # per_device_eval_batch_size=8,                      # 每个设备的评估批量大小\n",
    "    learning_rate=1e-3,                                # 学习率\n",
    "    num_train_epochs=1,                                # 训练轮数\n",
    "    lr_scheduler_type=\"linear\",                        # 学习率调度器类型\n",
    "    warmup_ratio=0.1,                                  # 预热比例\n",
    "    logging_steps=10,                                 # 日志记录步数\n",
    "    save_strategy=\"steps\",                             # 模型保存策略\n",
    "    save_steps=100,                                    # 模型保存步数\n",
    "    # evaluation_strategy=\"steps\",                       # 评估策略\n",
    "    # eval_steps=500,                                    # 评估步数\n",
    "    optim=\"adamw_torch\",                               # 优化器类型\n",
    "    fp16=True,                                        # 是否使用混合精度训练\n",
    ")"
   ]
  },
  {
   "cell_type": "code",
   "execution_count": 24,
   "id": "f80ec2ba-e723-4a24-9fa9-b8461eea622f",
   "metadata": {},
   "outputs": [],
   "source": [
    "trainer = Trainer(\n",
    "        model=qlora_model,\n",
    "        args=training_args,\n",
    "        train_dataset=tokenized_dataset,\n",
    "        data_collator=data_collator\n",
    "    )"
   ]
  },
  {
   "cell_type": "markdown",
   "id": "d1762007-5bb7-487f-a0be-ea1e2285ec2c",
   "metadata": {},
   "source": [
    "### 训练参数（用于homework）"
   ]
  },
  {
   "cell_type": "markdown",
   "id": "a0f4a081-ce88-40a4-b617-addcedf9a58f",
   "metadata": {},
   "source": [
    "### examples>=10,000,max_step=10000/(16X4)=156.25,取max_step=160,则训练的examples=160X64=10240"
   ]
  },
  {
   "cell_type": "code",
   "execution_count": 25,
   "id": "b5fffb3c-1e8d-474e-acd9-350255ef14e1",
   "metadata": {},
   "outputs": [],
   "source": [
    "from transformers import TrainingArguments, Trainer\n",
    "\n",
    "training_demo_args = TrainingArguments(\n",
    "    output_dir=f\"models/homework/{model_name_or_path}\",          # 输出目录\n",
    "    per_device_train_batch_size=16,                     # 每个设备的训练批量大小\n",
    "    gradient_accumulation_steps=4,                      # 梯度累积步数\n",
    "    learning_rate=1e-3,                                 # 学习率\n",
    "    max_steps=160,                                      # 训练步数\n",
    "    lr_scheduler_type=\"linear\",                         # 学习率调度器类型\n",
    "    warmup_ratio=0.1,                                   # 预热比例\n",
    "    logging_steps=16,                                   # 日志记录步数:修改为16，正好记录10次\n",
    "    save_strategy=\"steps\",                              # 模型保存策略，\n",
    "    save_steps=20,                                      # 模型保存步数\n",
    "    optim=\"adamw_torch\",                                # 优化器类型\n",
    "    fp16=True,                                          # 是否使用混合精度训练\n",
    ")"
   ]
  },
  {
   "attachments": {
    "189c29be-d6a6-43f2-9a44-e32ee04c039f.png": {
     "image/png": "[encoded data removed]"
    }
   },
   "cell_type": "markdown",
   "id": "96dc028c-daf9-4387-87d5-3bcfcf78bfcd",
   "metadata": {},
   "source": [
    "![image.png](attachment:189c29be-d6a6-43f2-9a44-e32ee04c039f.png)"
   ]
  },
  {
   "cell_type": "code",
   "execution_count": 26,
   "id": "2edb0ef0-8dde-4ffb-89dd-8be7b2fef81a",
   "metadata": {},
   "outputs": [],
   "source": [
    "trainer = Trainer(\n",
    "        model=qlora_model,\n",
    "        args=training_demo_args,\n",
    "        train_dataset=tokenized_dataset,\n",
    "        data_collator=data_collator\n",
    "    )"
   ]
  },
  {
   "cell_type": "code",
   "execution_count": 27,
   "id": "7102a6e6-3503-4a34-a20a-d7e6396109bb",
   "metadata": {},
   "outputs": [
    {
     "name": "stderr",
     "output_type": "stream",
     "text": [
      "`use_cache=True` is incompatible with gradient checkpointing. Setting `use_cache=False`...\n",
      "/root/miniconda3/envs/transformers/lib/python3.11/site-packages/torch/utils/checkpoint.py:460: UserWarning: torch.utils.checkpoint: please pass in use_reentrant=True or use_reentrant=False explicitly. The default value of use_reentrant will be updated to be False in the future. To maintain current behavior, pass use_reentrant=True. It is recommended that you use use_reentrant=False. Refer to docs for more details on the differences between the two variants.\n",
      "  warnings.warn(\n"
     ]
    },
    {
     "data": {
      "text/html": [
       "\n",
       "    <div>\n",
       "      \n",
       "      <progress value='160' max='160' style='width:300px; height:20px; vertical-align: middle;'></progress>\n",
       "      [160/160 1:22:28, Epoch 0/1]\n",
       "    </div>\n",
       "    <table border=\"1\" class=\"dataframe\">\n",
       "  <thead>\n",
       " <tr style=\"text-align: left;\">\n",
       "      <th>Step</th>\n",
       "      <th>Training Loss</th>\n",
       "    </tr>\n",
       "  </thead>\n",
       "  <tbody>\n",
       "    <tr>\n",
       "      <td>16</td>\n",
       "      <td>4.493300</td>\n",
       "    </tr>\n",
       "    <tr>\n",
       "      <td>32</td>\n",
       "      <td>3.648100</td>\n",
       "    </tr>\n",
       "    <tr>\n",
       "      <td>48</td>\n",
       "      <td>3.475300</td>\n",
       "    </tr>\n",
       "    <tr>\n",
       "      <td>64</td>\n",
       "      <td>3.424900</td>\n",
       "    </tr>\n",
       "    <tr>\n",
       "      <td>80</td>\n",
       "      <td>3.366500</td>\n",
       "    </tr>\n",
       "    <tr>\n",
       "      <td>96</td>\n",
       "      <td>3.334900</td>\n",
       "    </tr>\n",
       "    <tr>\n",
       "      <td>112</td>\n",
       "      <td>3.317300</td>\n",
       "    </tr>\n",
       "    <tr>\n",
       "      <td>128</td>\n",
       "      <td>3.284500</td>\n",
       "    </tr>\n",
       "    <tr>\n",
       "      <td>144</td>\n",
       "      <td>3.248000</td>\n",
       "    </tr>\n",
       "    <tr>\n",
       "      <td>160</td>\n",
       "      <td>3.269200</td>\n",
       "    </tr>\n",
       "  </tbody>\n",
       "</table><p>"
      ],
      "text/plain": [
       "<IPython.core.display.HTML object>"
      ]
     },
     "metadata": {},
     "output_type": "display_data"
    },
    {
     "name": "stderr",
     "output_type": "stream",
     "text": [
      "/root/miniconda3/envs/transformers/lib/python3.11/site-packages/torch/utils/checkpoint.py:460: UserWarning: torch.utils.checkpoint: please pass in use_reentrant=True or use_reentrant=False explicitly. The default value of use_reentrant will be updated to be False in the future. To maintain current behavior, pass use_reentrant=True. It is recommended that you use use_reentrant=False. Refer to docs for more details on the differences between the two variants.\n",
      "  warnings.warn(\n",
      "/root/miniconda3/envs/transformers/lib/python3.11/site-packages/torch/utils/checkpoint.py:460: UserWarning: torch.utils.checkpoint: please pass in use_reentrant=True or use_reentrant=False explicitly. The default value of use_reentrant will be updated to be False in the future. To maintain current behavior, pass use_reentrant=True. It is recommended that you use use_reentrant=False. Refer to docs for more details on the differences between the two variants.\n",
      "  warnings.warn(\n",
      "/root/miniconda3/envs/transformers/lib/python3.11/site-packages/torch/utils/checkpoint.py:460: UserWarning: torch.utils.checkpoint: please pass in use_reentrant=True or use_reentrant=False explicitly. The default value of use_reentrant will be updated to be False in the future. To maintain current behavior, pass use_reentrant=True. It is recommended that you use use_reentrant=False. Refer to docs for more details on the differences between the two variants.\n",
      "  warnings.warn(\n",
      "/root/miniconda3/envs/transformers/lib/python3.11/site-packages/torch/utils/checkpoint.py:460: UserWarning: torch.utils.checkpoint: please pass in use_reentrant=True or use_reentrant=False explicitly. The default value of use_reentrant will be updated to be False in the future. To maintain current behavior, pass use_reentrant=True. It is recommended that you use use_reentrant=False. Refer to docs for more details on the differences between the two variants.\n",
      "  warnings.warn(\n",
      "/root/miniconda3/envs/transformers/lib/python3.11/site-packages/torch/utils/checkpoint.py:460: UserWarning: torch.utils.checkpoint: please pass in use_reentrant=True or use_reentrant=False explicitly. The default value of use_reentrant will be updated to be False in the future. To maintain current behavior, pass use_reentrant=True. It is recommended that you use use_reentrant=False. Refer to docs for more details on the differences between the two variants.\n",
      "  warnings.warn(\n",
      "/root/miniconda3/envs/transformers/lib/python3.11/site-packages/torch/utils/checkpoint.py:460: UserWarning: torch.utils.checkpoint: please pass in use_reentrant=True or use_reentrant=False explicitly. The default value of use_reentrant will be updated to be False in the future. To maintain current behavior, pass use_reentrant=True. It is recommended that you use use_reentrant=False. Refer to docs for more details on the differences between the two variants.\n",
      "  warnings.warn(\n",
      "/root/miniconda3/envs/transformers/lib/python3.11/site-packages/torch/utils/checkpoint.py:460: UserWarning: torch.utils.checkpoint: please pass in use_reentrant=True or use_reentrant=False explicitly. The default value of use_reentrant will be updated to be False in the future. To maintain current behavior, pass use_reentrant=True. It is recommended that you use use_reentrant=False. Refer to docs for more details on the differences between the two variants.\n",
      "  warnings.warn(\n"
     ]
    },
    {
     "data": {
      "text/plain": [
       "TrainOutput(global_step=160, training_loss=3.4862064361572265, metrics={'train_runtime': 4975.0734, 'train_samples_per_second': 2.058, 'train_steps_per_second': 0.032, 'total_flos': 6.15351153550295e+16, 'train_loss': 3.4862064361572265, 'epoch': 0.09})"
      ]
     },
     "execution_count": 27,
     "metadata": {},
     "output_type": "execute_result"
    }
   ],
   "source": [
    "trainer.train()"
   ]
  },
  {
   "cell_type": "code",
   "execution_count": null,
   "id": "e985068f-8abc-4d8d-8758-4a0e9c87093b",
   "metadata": {},
   "outputs": [],
   "source": []
  }
 ],
 "metadata": {
  "kernelspec": {
   "display_name": "Python 3 (ipykernel)",
   "language": "python",
   "name": "python3"
  },
  "language_info": {
   "codemirror_mode": {
    "name": "ipython",
    "version": 3
   },
   "file_extension": ".py",
   "mimetype": "text/x-python",
   "name": "python",
   "nbconvert_exporter": "python",
   "pygments_lexer": "ipython3",
   "version": "3.11.8"
  }
 },
 "nbformat": 4,
 "nbformat_minor": 5
}
